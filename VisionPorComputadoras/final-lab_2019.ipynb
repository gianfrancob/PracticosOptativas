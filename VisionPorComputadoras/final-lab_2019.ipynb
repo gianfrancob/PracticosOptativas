{
  "nbformat": 4,
  "nbformat_minor": 0,
  "metadata": {
    "kernelspec": {
      "display_name": "Python 3",
      "language": "python",
      "name": "python3"
    },
    "language_info": {
      "codemirror_mode": {
        "name": "ipython",
        "version": 3
      },
      "file_extension": ".py",
      "mimetype": "text/x-python",
      "name": "python",
      "nbconvert_exporter": "python",
      "pygments_lexer": "ipython3",
      "version": "3.6.9"
    },
    "colab": {
      "name": "final-lab_2019.ipynb",
      "provenance": [],
      "toc_visible": true
    }
  },
  "cells": [
    {
      "cell_type": "markdown",
      "metadata": {
        "id": "R_xO9wr_Jgbm",
        "colab_type": "text"
      },
      "source": [
        "# Redes Convolucionales en visión por computadoras\n",
        "\n",
        "## Trabajo Final: Analizando el Amazonas desde el espacio\n",
        "\n",
        "En este trabajo, utilizaremos imágenes satelitales del Amazonas para entrenar un modelo de Deep Learning que sea capaz de darnos información acerca del contenido de las mismas.\n",
        "\n",
        "### Imágenes\n",
        "\n",
        "Trabajaremos con más de 40.000 imágenes satelitales en RGB donde cada píxel representa un área de 3.7 metros. Los datos provienen de los satélites Flock 2 de la compañía Planet, recolectados entre el 1 de Enero de 2016 y el 1 de Febrero de 2017. Todas las escenas provienen de la cuenca del Amazonas que incluye Brasil, Perú, Uruguay, Colombia, Venezuela, Guyana, Bolivia y Ecuador.\n",
        "\n",
        "### Etiquetas\n",
        "\n",
        "Las clases a predecir para cada imágen representan un conjunto de fenómenos de interés que se desean analizar en el Amazonas. Estas etiquetas pueden distribuirse en tres grupos:\n",
        "\n",
        "- Condiciones atmosféricas\n",
        "- Fenómenos comunes de cobertura/uso de suelo\n",
        "- Fenómenos raros de cobertura/uso de suelo\n",
        "\n",
        "Cada imágen tendrá al menos una, y potencialmente, más de una etiqueta del tipo de condiciones atmosféricas. Así como también cero o varias etiquetas del tipo de fenómenos comunes o raros de cobertura/uso de suelo. Aquellas imágenes etiquetadas como \"cloudy\" (nublado), no deberían tener ninguna otra anotación, aunque pueden haber errores de anotación.\n",
        "\n",
        "Puede ocurrir que en muchas imágenes no se haya taggeado todos los fenómenos observables, como así también puede que haya etiquetas incorrectas. El poder trabajar y solucionar problemas relacionados con datos ruidosos será parte del desafío.\n",
        "\n",
        "![chips.jpg](attachment:chips.jpg)\n",
        "*Ejemplo de imágenes y sus etiquetas*\n",
        "\n",
        "Trabajaremos con un total de 17 etiquetas posibles, descritas a continuación:\n",
        "\n",
        "- **Cloudy:** Imagen completamente nublada que no permite obtener observaciones adicionales.\n",
        "- **Partly Cloudy:** Imagen parcialmente nublada.\n",
        "- **Clear:** Imagen sin nubes.\n",
        "- **Haze:** Imagen con neblina.\n",
        "- **Primary (rainforest):** Presencia de bosque \"virgen\" o áreas con alta densidad de vegetación.\n",
        "- **Water:** Presencia de ríos, embalses o lagos.\n",
        "- **Habitation:** Presencia de casas o edificios.\n",
        "- **Agriculture:** Porciones de tierra sin árboles siendo utilizadas para la agricultura.\n",
        "- **Road:** Caminos o rutas.\n",
        "- **Cultivation:** Es un subconjunto de Agriculture que se refiere a pequeñas granjas siendo explotadas por una persona o familia como medio de supervivencia.\n",
        "- **Bare Ground:** Áreas sin presencia de árboles por causas naturales y no como resultado de la actividad humana.\n",
        "- **Slash and Burn:** Áreas que han sido incendiadas recientemente.\n",
        "- **Selective Logging:** Zonas de tala selectiva de especies de árboles de alto valor.\n",
        "- **Blooming:** Es un fenómeno natural donde ciertas especies de árboles, eclosionan, dan frutos y florecen para aumentar las chances de polinización cruzada.\n",
        "- **Conventional Mining:** Zona con presencia de minería legal a larga escala.\n",
        "- **\"Artisinal\" Mining:** Operaciones de minería a baja escala, usualmente ilegales.\n",
        "- **Blow Down:** Fenómeno natural que ocurre cuando el aire frío y seco de los Andes se asienta sobre el aire cálido y húmedo en la selva. Estos fuertes vientos derriban los árboles más grandes de la selva tropical, y las áreas abiertas resultantes son visibles desde el espacio.\n",
        "\n",
        "### Aclaraciones finales\n",
        "\n",
        "Tenga en cuenta que este no se trata de un problema de multi-class classification, sino un problema de [multi-label classification](https://en.wikipedia.org/wiki/Multi-label_classification), dónde para cada imágen se puede predecir mas de una categoría o etiqueta.\n"
      ]
    },
    {
      "cell_type": "markdown",
      "metadata": {
        "id": "4LiGul50Jgbq",
        "colab_type": "text"
      },
      "source": [
        "## Instalación de librerías\n",
        "\n",
        "Si desea utilizar Google Colab, recomiendo ejecutar este comando para actualizar e instalar la versión 2.0 de `tensorflow-gpu` (la versión instalada por defecto de tensorflow sólo corre en CPU)."
      ]
    },
    {
      "cell_type": "code",
      "metadata": {
        "id": "DTsKaxTPJgbt",
        "colab_type": "code",
        "colab": {}
      },
      "source": [
        "!pip uninstall tensorflow && pip install -U tensorflow-gpu==2.0.0 keras==2.3.1"
      ],
      "execution_count": 0,
      "outputs": []
    },
    {
      "cell_type": "markdown",
      "metadata": {
        "id": "lnEbOshhJgbz",
        "colab_type": "text"
      },
      "source": [
        "## Obtención de datos\n",
        "\n",
        "Para descargar las imágenes y sus correspondientes etiquetas, puede ejecutar los siguiente comandos directamente desde el notebook."
      ]
    },
    {
      "cell_type": "code",
      "metadata": {
        "id": "yQT1ifEKJgb0",
        "colab_type": "code",
        "colab": {}
      },
      "source": [
        "# Descargar dataset de imágenes desde Google Drive\n",
        "!wget --load-cookies /tmp/cookies.txt \"https://docs.google.com/uc?export=download&confirm=$(wget --quiet --save-cookies /tmp/cookies.txt --keep-session-cookies --no-check-certificate 'https://docs.google.com/uc?export=download&id=1--zzWhWfDnSZMtIcUfMyc10ZZPH3ZdnM' -O- | sed -rn 's/.*confirm=([0-9A-Za-z_]+).*/\\1\\n/p')&id=1--zzWhWfDnSZMtIcUfMyc10ZZPH3ZdnM\" -O 'train-jpg.tar' && rm -rf /tmp/cookies.txt"
      ],
      "execution_count": 0,
      "outputs": []
    },
    {
      "cell_type": "code",
      "metadata": {
        "scrolled": true,
        "id": "fHHmr0-RJgb5",
        "colab_type": "code",
        "colab": {}
      },
      "source": [
        "# Extraemos las imágenes\n",
        "!tar -xvf train-jpg.tar"
      ],
      "execution_count": 0,
      "outputs": []
    },
    {
      "cell_type": "code",
      "metadata": {
        "id": "gD1K6_0kJgb_",
        "colab_type": "code",
        "colab": {}
      },
      "source": [
        "# Descargar etiquetas desde Google Drive\n",
        "!wget --no-check-certificate 'https://docs.google.com/uc?export=download&id=1UB3LTf73QrXggGQqzUCLjntxmfA90aDb' -O 'train-jpg-labels.pkl'"
      ],
      "execution_count": 0,
      "outputs": []
    },
    {
      "cell_type": "markdown",
      "metadata": {
        "id": "eawNiUCUJgcD",
        "colab_type": "text"
      },
      "source": [
        "## Librerias a utilizar\n",
        "\n",
        "Es obligatorio el uso de `Keras` y `tensorflow` para la creación y entrenamiento de su modelo de Deep Learning."
      ]
    },
    {
      "cell_type": "code",
      "metadata": {
        "id": "Aj-NfAXPJgcF",
        "colab_type": "code",
        "colab": {}
      },
      "source": [
        "import warnings\n",
        "\n",
        "from IPython.display import SVG\n",
        "from keras.datasets import fashion_mnist\n",
        "from keras.layers import Dense, Flatten, Conv2D, Dropout, MaxPooling2D\n",
        "from keras.models import Sequential\n",
        "from keras.utils import plot_model, to_categorical\n",
        "from keras.utils.vis_utils import model_to_dot\n",
        "from sklearn.metrics import classification_report\n",
        "from sklearn.model_selection import train_test_split\n",
        "import keras\n",
        "import matplotlib.pyplot as plt\n",
        "import numpy as np\n",
        "import pandas as pd\n",
        "import seaborn as sns\n",
        "\n",
        "warnings.filterwarnings('ignore')\n",
        "%matplotlib inline"
      ],
      "execution_count": 0,
      "outputs": []
    },
    {
      "cell_type": "markdown",
      "metadata": {
        "id": "_f6qc-_HJgcI",
        "colab_type": "text"
      },
      "source": [
        "## Exploración y análisis\n",
        "\n",
        "Utilice esta sección para explorar las imágenes y sus etiquetas asociadas. Sugerencias:\n",
        "\n",
        "- Analice la distribución de los datos.\n",
        "    - ¿Está el dataset balanceado?\n",
        "    - ¿Cuál es el tamaño de las imágenes?\n",
        "- Analice la correlación entre etiquetas.\n",
        "- Visualice imágenes y relaciones patrones presentes en cada una.\n",
        "\n",
        "**Ayuda:** Para cargar las etiquetas recomiendo utilizar la función [read_pickle](https://pandas.pydata.org/pandas-docs/stable/reference/api/pandas.read_pickle.html) de la librería `Pandas`."
      ]
    },
    {
      "cell_type": "code",
      "metadata": {
        "id": "kHg-oIFaJgcJ",
        "colab_type": "code",
        "colab": {}
      },
      "source": [
        ""
      ],
      "execution_count": 0,
      "outputs": []
    },
    {
      "cell_type": "markdown",
      "metadata": {
        "id": "cQpM51PYJgcP",
        "colab_type": "text"
      },
      "source": [
        "## Conjunto de entrenamiento\n",
        "\n",
        "En base al análisis anterior, decida como separará sus datos en conjuntos de entrenamiento y testing."
      ]
    },
    {
      "cell_type": "code",
      "metadata": {
        "id": "MBUzU3bnJgcQ",
        "colab_type": "code",
        "colab": {}
      },
      "source": [
        ""
      ],
      "execution_count": 0,
      "outputs": []
    },
    {
      "cell_type": "markdown",
      "metadata": {
        "id": "L3X0v9gnJgcU",
        "colab_type": "text"
      },
      "source": [
        "## Data Augmentation\n",
        "\n",
        "Proponga algún de pre-procesamiento y aumentado de datos, visualice los resultados del método propuesto. Puede experimentar y elegir el que mejor funcione en sus entrenamientos.\n",
        "\n",
        "**Ayuda:** Al tener sus anotaciones en formato csv, lo mas sensillo sería utilizar el método [flow_from_dataframe](https://keras.io/preprocessing/image/#flow_from_dataframe) de la clase `ImageDataGenerator` de `Keras`."
      ]
    },
    {
      "cell_type": "code",
      "metadata": {
        "id": "VnYGrfx9JgcV",
        "colab_type": "code",
        "colab": {}
      },
      "source": [
        ""
      ],
      "execution_count": 0,
      "outputs": []
    },
    {
      "cell_type": "markdown",
      "metadata": {
        "id": "pcZceaSyJgcZ",
        "colab_type": "text"
      },
      "source": [
        "## Elección de modelo\n",
        "\n",
        "Elija un modelo de red convolucional para entrenar sobre sus datos. Puede armar su propia red convolucional de cero o utilizar una de las provistas por `Keras` en [Applications](https://keras.io/applications/).\n",
        "\n",
        "Piense como debería ser la capa de clasificación de su modelo y la función de costo a utilizar durante el entrenamiento al tratarse de un problema del tipo multi-label classification."
      ]
    },
    {
      "cell_type": "code",
      "metadata": {
        "id": "yrWprT9XJgca",
        "colab_type": "code",
        "colab": {}
      },
      "source": [
        ""
      ],
      "execution_count": 0,
      "outputs": []
    },
    {
      "cell_type": "markdown",
      "metadata": {
        "id": "GUBwl7O2Jgce",
        "colab_type": "text"
      },
      "source": [
        "## Entrenamiento\n",
        "\n",
        "Entrene y muestre los resultados obtenidos en cada epoch para con su modelo."
      ]
    },
    {
      "cell_type": "code",
      "metadata": {
        "id": "0z4FkmsnJgcg",
        "colab_type": "code",
        "colab": {}
      },
      "source": [
        ""
      ],
      "execution_count": 0,
      "outputs": []
    },
    {
      "cell_type": "markdown",
      "metadata": {
        "id": "96mtP2UOJgcj",
        "colab_type": "text"
      },
      "source": [
        "## Evaluación\n",
        "\n",
        "Muestre debajo los resultados del modelo en su conjunto de testing. Elija las métricas apropiadas para este tipo de problema."
      ]
    },
    {
      "cell_type": "code",
      "metadata": {
        "id": "dpAfONI_Jgcl",
        "colab_type": "code",
        "colab": {}
      },
      "source": [
        ""
      ],
      "execution_count": 0,
      "outputs": []
    }
  ]
}