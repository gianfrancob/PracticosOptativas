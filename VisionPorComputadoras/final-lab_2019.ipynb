{
  "nbformat": 4,
  "nbformat_minor": 0,
  "metadata": {
    "kernelspec": {
      "display_name": "Python 3",
      "language": "python",
      "name": "python3"
    },
    "language_info": {
      "codemirror_mode": {
        "name": "ipython",
        "version": 3
      },
      "file_extension": ".py",
      "mimetype": "text/x-python",
      "name": "python",
      "nbconvert_exporter": "python",
      "pygments_lexer": "ipython3",
      "version": "3.6.9"
    },
    "colab": {
      "name": "final-lab_2019.ipynb",
      "provenance": []
    }
  },
  "cells": [
    {
      "cell_type": "markdown",
      "metadata": {
        "id": "R_xO9wr_Jgbm",
        "colab_type": "text"
      },
      "source": [
        "# Redes Convolucionales en visión por computadoras\n",
        "\n",
        "## Trabajo Final: Analizando el Amazonas desde el espacio\n",
        "\n",
        "En este trabajo, utilizaremos imágenes satelitales del Amazonas para entrenar un modelo de Deep Learning que sea capaz de darnos información acerca del contenido de las mismas.\n",
        "\n",
        "### Imágenes\n",
        "\n",
        "Trabajaremos con más de 40.000 imágenes satelitales en RGB donde cada píxel representa un área de 3.7 metros. Los datos provienen de los satélites Flock 2 de la compañía Planet, recolectados entre el 1 de Enero de 2016 y el 1 de Febrero de 2017. Todas las escenas provienen de la cuenca del Amazonas que incluye Brasil, Perú, Uruguay, Colombia, Venezuela, Guyana, Bolivia y Ecuador.\n",
        "\n",
        "### Etiquetas\n",
        "\n",
        "Las clases a predecir para cada imágen representan un conjunto de fenómenos de interés que se desean analizar en el Amazonas. Estas etiquetas pueden distribuirse en tres grupos:\n",
        "\n",
        "- Condiciones atmosféricas\n",
        "- Fenómenos comunes de cobertura/uso de suelo\n",
        "- Fenómenos raros de cobertura/uso de suelo\n",
        "\n",
        "Cada imágen tendrá al menos una, y potencialmente, más de una etiqueta del tipo de condiciones atmosféricas. Así como también cero o varias etiquetas del tipo de fenómenos comunes o raros de cobertura/uso de suelo. Aquellas imágenes etiquetadas como \"cloudy\" (nublado), no deberían tener ninguna otra anotación, aunque pueden haber errores de anotación.\n",
        "\n",
        "Puede ocurrir que en muchas imágenes no se haya taggeado todos los fenómenos observables, como así también puede que haya etiquetas incorrectas. El poder trabajar y solucionar problemas relacionados con datos ruidosos será parte del desafío.\n",
        "\n",
        "![chips.jpg](attachment:chips.jpg)\n",
        "*Ejemplo de imágenes y sus etiquetas*\n",
        "\n",
        "Trabajaremos con un total de 17 etiquetas posibles, descritas a continuación:\n",
        "\n",
        "- **Cloudy:** Imagen completamente nublada que no permite obtener observaciones adicionales.\n",
        "- **Partly Cloudy:** Imagen parcialmente nublada.\n",
        "- **Clear:** Imagen sin nubes.\n",
        "- **Haze:** Imagen con neblina.\n",
        "- **Primary (rainforest):** Presencia de bosque \"virgen\" o áreas con alta densidad de vegetación.\n",
        "- **Water:** Presencia de ríos, embalses o lagos.\n",
        "- **Habitation:** Presencia de casas o edificios.\n",
        "- **Agriculture:** Porciones de tierra sin árboles siendo utilizadas para la agricultura.\n",
        "- **Road:** Caminos o rutas.\n",
        "- **Cultivation:** Es un subconjunto de Agriculture que se refiere a pequeñas granjas siendo explotadas por una persona o familia como medio de supervivencia.\n",
        "- **Bare Ground:** Áreas sin presencia de árboles por causas naturales y no como resultado de la actividad humana.\n",
        "- **Slash and Burn:** Áreas que han sido incendiadas recientemente.\n",
        "- **Selective Logging:** Zonas de tala selectiva de especies de árboles de alto valor.\n",
        "- **Blooming:** Es un fenómeno natural donde ciertas especies de árboles, eclosionan, dan frutos y florecen para aumentar las chances de polinización cruzada.\n",
        "- **Conventional Mining:** Zona con presencia de minería legal a larga escala.\n",
        "- **\"Artisinal\" Mining:** Operaciones de minería a baja escala, usualmente ilegales.\n",
        "- **Blow Down:** Fenómeno natural que ocurre cuando el aire frío y seco de los Andes se asienta sobre el aire cálido y húmedo en la selva. Estos fuertes vientos derriban los árboles más grandes de la selva tropical, y las áreas abiertas resultantes son visibles desde el espacio.\n",
        "\n",
        "### Aclaraciones finales\n",
        "\n",
        "Tenga en cuenta que este no se trata de un problema de multi-class classification, sino un problema de [multi-label classification](https://en.wikipedia.org/wiki/Multi-label_classification), dónde para cada imágen se puede predecir mas de una categoría o etiqueta.\n"
      ]
    },
    {
      "cell_type": "markdown",
      "metadata": {
        "id": "4LiGul50Jgbq",
        "colab_type": "text"
      },
      "source": [
        "## Instalación de librerías\n",
        "\n",
        "Si desea utilizar Google Colab, recomiendo ejecutar este comando para actualizar e instalar la versión 2.0 de `tensorflow-gpu` (la versión instalada por defecto de tensorflow sólo corre en CPU)."
      ]
    },
    {
      "cell_type": "code",
      "metadata": {
        "id": "DTsKaxTPJgbt",
        "colab_type": "code",
        "colab": {}
      },
      "source": [
        "!pip uninstall tensorflow && pip install -U tensorflow-gpu==2.0.0 keras==2.3.1"
      ],
      "execution_count": 0,
      "outputs": []
    },
    {
      "cell_type": "markdown",
      "metadata": {
        "id": "lnEbOshhJgbz",
        "colab_type": "text"
      },
      "source": [
        "## Obtención de datos\n",
        "\n",
        "Para descargar las imágenes y sus correspondientes etiquetas, puede ejecutar los siguiente comandos directamente desde el notebook."
      ]
    },
    {
      "cell_type": "code",
      "metadata": {
        "id": "yQT1ifEKJgb0",
        "colab_type": "code",
        "colab": {}
      },
      "source": [
        "# Descargar dataset de imágenes desde Google Drive\n",
        "!wget --load-cookies /tmp/cookies.txt \"https://docs.google.com/uc?export=download&confirm=$(wget --quiet --save-cookies /tmp/cookies.txt --keep-session-cookies --no-check-certificate 'https://docs.google.com/uc?export=download&id=1--zzWhWfDnSZMtIcUfMyc10ZZPH3ZdnM' -O- | sed -rn 's/.*confirm=([0-9A-Za-z_]+).*/\\1\\n/p')&id=1--zzWhWfDnSZMtIcUfMyc10ZZPH3ZdnM\" -O 'train-jpg.tar' && rm -rf /tmp/cookies.txt"
      ],
      "execution_count": 0,
      "outputs": []
    },
    {
      "cell_type": "code",
      "metadata": {
        "scrolled": true,
        "id": "fHHmr0-RJgb5",
        "colab_type": "code",
        "colab": {}
      },
      "source": [
        "# Extraemos las imágenes\n",
        "!tar -xvf train-jpg.tar"
      ],
      "execution_count": 0,
      "outputs": []
    },
    {
      "cell_type": "code",
      "metadata": {
        "id": "gD1K6_0kJgb_",
        "colab_type": "code",
        "colab": {}
      },
      "source": [
        "# Descargar etiquetas desde Google Drive\n",
        "!wget --no-check-certificate 'https://docs.google.com/uc?export=download&id=1UB3LTf73QrXggGQqzUCLjntxmfA90aDb' -O 'train-jpg-labels.pkl'"
      ],
      "execution_count": 0,
      "outputs": []
    },
    {
      "cell_type": "markdown",
      "metadata": {
        "id": "eawNiUCUJgcD",
        "colab_type": "text"
      },
      "source": [
        "## Librerias a utilizar\n",
        "\n",
        "Es obligatorio el uso de `Keras` y `tensorflow` para la creación y entrenamiento de su modelo de Deep Learning."
      ]
    },
    {
      "cell_type": "code",
      "metadata": {
        "id": "Aj-NfAXPJgcF",
        "colab_type": "code",
        "colab": {}
      },
      "source": [
        "import warnings\n",
        "\n",
        "from IPython.display import SVG\n",
        "from keras import regularizers, optimizers\n",
        "from keras.layers import Dense, Activation, Flatten, Conv2D, Dropout, MaxPooling2D, BatchNormalization\n",
        "from keras.models import Sequential, model_from_json\n",
        "from keras.utils import plot_model, to_categorical\n",
        "from keras.utils.vis_utils import model_to_dot\n",
        "from keras.preprocessing.image import ImageDataGenerator\n",
        "from keras.preprocessing.text import Tokenizer\n",
        "from sklearn.metrics import classification_report, log_loss, accuracy_score\n",
        "from sklearn.model_selection import train_test_split\n",
        "from sklearn.preprocessing import MultiLabelBinarizer\n",
        "import tensorflow as tf\n",
        "import keras\n",
        "import matplotlib.pyplot as plt\n",
        "import matplotlib.image as mpimg\n",
        "import numpy as np\n",
        "import pandas as pd\n",
        "import seaborn as sns\n",
        "from scipy import sparse\n",
        "from collections import Counter\n",
        "import json\n",
        "\n",
        "warnings.filterwarnings('ignore')\n",
        "%matplotlib inline\n",
        "RANDOM_STATE = 14"
      ],
      "execution_count": 0,
      "outputs": []
    },
    {
      "cell_type": "markdown",
      "metadata": {
        "id": "_f6qc-_HJgcI",
        "colab_type": "text"
      },
      "source": [
        "## Exploración y análisis\n",
        "\n",
        "Utilice esta sección para explorar las imágenes y sus etiquetas asociadas. Sugerencias:\n",
        "\n",
        "- Analice la distribución de los datos.\n",
        "    - ¿Está el dataset balanceado?\n",
        "    - ¿Cuál es el tamaño de las imágenes?\n",
        "- Analice la correlación entre etiquetas.\n",
        "- Visualice imágenes y relaciones patrones presentes en cada una.\n",
        "\n",
        "**Ayuda:** Para cargar las etiquetas recomiendo utilizar la función [read_pickle](https://pandas.pydata.org/pandas-docs/stable/reference/api/pandas.read_pickle.html) de la librería `Pandas`."
      ]
    },
    {
      "cell_type": "code",
      "metadata": {
        "id": "kHg-oIFaJgcJ",
        "colab_type": "code",
        "outputId": "b899c9b8-1c36-482e-bcb0-3b498ca31934",
        "colab": {
          "base_uri": "https://localhost:8080/",
          "height": 204
        }
      },
      "source": [
        "labels_df = pd.read_pickle(\"train-jpg-labels.pkl\")\n",
        "labels_df.head()"
      ],
      "execution_count": 7,
      "outputs": [
        {
          "output_type": "execute_result",
          "data": {
            "text/html": [
              "<div>\n",
              "<style scoped>\n",
              "    .dataframe tbody tr th:only-of-type {\n",
              "        vertical-align: middle;\n",
              "    }\n",
              "\n",
              "    .dataframe tbody tr th {\n",
              "        vertical-align: top;\n",
              "    }\n",
              "\n",
              "    .dataframe thead th {\n",
              "        text-align: right;\n",
              "    }\n",
              "</style>\n",
              "<table border=\"1\" class=\"dataframe\">\n",
              "  <thead>\n",
              "    <tr style=\"text-align: right;\">\n",
              "      <th></th>\n",
              "      <th>image_name</th>\n",
              "      <th>tags</th>\n",
              "    </tr>\n",
              "  </thead>\n",
              "  <tbody>\n",
              "    <tr>\n",
              "      <th>0</th>\n",
              "      <td>train-jpg/train_0.jpg</td>\n",
              "      <td>[haze, primary]</td>\n",
              "    </tr>\n",
              "    <tr>\n",
              "      <th>1</th>\n",
              "      <td>train-jpg/train_1.jpg</td>\n",
              "      <td>[agriculture, clear, primary, water]</td>\n",
              "    </tr>\n",
              "    <tr>\n",
              "      <th>2</th>\n",
              "      <td>train-jpg/train_2.jpg</td>\n",
              "      <td>[clear, primary]</td>\n",
              "    </tr>\n",
              "    <tr>\n",
              "      <th>3</th>\n",
              "      <td>train-jpg/train_3.jpg</td>\n",
              "      <td>[clear, primary]</td>\n",
              "    </tr>\n",
              "    <tr>\n",
              "      <th>4</th>\n",
              "      <td>train-jpg/train_4.jpg</td>\n",
              "      <td>[agriculture, clear, habitation, primary, road]</td>\n",
              "    </tr>\n",
              "  </tbody>\n",
              "</table>\n",
              "</div>"
            ],
            "text/plain": [
              "              image_name                                             tags\n",
              "0  train-jpg/train_0.jpg                                  [haze, primary]\n",
              "1  train-jpg/train_1.jpg             [agriculture, clear, primary, water]\n",
              "2  train-jpg/train_2.jpg                                 [clear, primary]\n",
              "3  train-jpg/train_3.jpg                                 [clear, primary]\n",
              "4  train-jpg/train_4.jpg  [agriculture, clear, habitation, primary, road]"
            ]
          },
          "metadata": {
            "tags": []
          },
          "execution_count": 7
        }
      ]
    },
    {
      "cell_type": "code",
      "metadata": {
        "id": "apr68LtRX8Z0",
        "colab_type": "code",
        "outputId": "a3e2b669-645c-45b3-88ad-878f4bcfe723",
        "colab": {
          "base_uri": "https://localhost:8080/",
          "height": 630
        }
      },
      "source": [
        "tags = []\n",
        "for tag in labels_df.tags:\n",
        "  tags.extend(tag)\n",
        "tag_ctr = Counter(tags)\n",
        "tags_ctr = pd.DataFrame.from_dict(tag_ctr, orient=\"index\", columns=[\"counter\"])\n",
        "display(tags_ctr.sort_values(\"counter\", ascending=False))\n",
        "labels = list(tag_ctr.keys())\n",
        "n_labels = len(labels)\n",
        "print(labels)\n",
        "print(n_labels)"
      ],
      "execution_count": 8,
      "outputs": [
        {
          "output_type": "display_data",
          "data": {
            "text/html": [
              "<div>\n",
              "<style scoped>\n",
              "    .dataframe tbody tr th:only-of-type {\n",
              "        vertical-align: middle;\n",
              "    }\n",
              "\n",
              "    .dataframe tbody tr th {\n",
              "        vertical-align: top;\n",
              "    }\n",
              "\n",
              "    .dataframe thead th {\n",
              "        text-align: right;\n",
              "    }\n",
              "</style>\n",
              "<table border=\"1\" class=\"dataframe\">\n",
              "  <thead>\n",
              "    <tr style=\"text-align: right;\">\n",
              "      <th></th>\n",
              "      <th>counter</th>\n",
              "    </tr>\n",
              "  </thead>\n",
              "  <tbody>\n",
              "    <tr>\n",
              "      <th>primary</th>\n",
              "      <td>37513</td>\n",
              "    </tr>\n",
              "    <tr>\n",
              "      <th>clear</th>\n",
              "      <td>28431</td>\n",
              "    </tr>\n",
              "    <tr>\n",
              "      <th>agriculture</th>\n",
              "      <td>12315</td>\n",
              "    </tr>\n",
              "    <tr>\n",
              "      <th>road</th>\n",
              "      <td>8071</td>\n",
              "    </tr>\n",
              "    <tr>\n",
              "      <th>water</th>\n",
              "      <td>7411</td>\n",
              "    </tr>\n",
              "    <tr>\n",
              "      <th>partly_cloudy</th>\n",
              "      <td>7261</td>\n",
              "    </tr>\n",
              "    <tr>\n",
              "      <th>cultivation</th>\n",
              "      <td>4547</td>\n",
              "    </tr>\n",
              "    <tr>\n",
              "      <th>habitation</th>\n",
              "      <td>3660</td>\n",
              "    </tr>\n",
              "    <tr>\n",
              "      <th>haze</th>\n",
              "      <td>2697</td>\n",
              "    </tr>\n",
              "    <tr>\n",
              "      <th>cloudy</th>\n",
              "      <td>2089</td>\n",
              "    </tr>\n",
              "    <tr>\n",
              "      <th>bare_ground</th>\n",
              "      <td>862</td>\n",
              "    </tr>\n",
              "    <tr>\n",
              "      <th>selective_logging</th>\n",
              "      <td>340</td>\n",
              "    </tr>\n",
              "    <tr>\n",
              "      <th>artisinal_mine</th>\n",
              "      <td>339</td>\n",
              "    </tr>\n",
              "    <tr>\n",
              "      <th>blooming</th>\n",
              "      <td>332</td>\n",
              "    </tr>\n",
              "    <tr>\n",
              "      <th>slash_burn</th>\n",
              "      <td>209</td>\n",
              "    </tr>\n",
              "    <tr>\n",
              "      <th>blow_down</th>\n",
              "      <td>101</td>\n",
              "    </tr>\n",
              "    <tr>\n",
              "      <th>conventional_mine</th>\n",
              "      <td>100</td>\n",
              "    </tr>\n",
              "  </tbody>\n",
              "</table>\n",
              "</div>"
            ],
            "text/plain": [
              "                   counter\n",
              "primary              37513\n",
              "clear                28431\n",
              "agriculture          12315\n",
              "road                  8071\n",
              "water                 7411\n",
              "partly_cloudy         7261\n",
              "cultivation           4547\n",
              "habitation            3660\n",
              "haze                  2697\n",
              "cloudy                2089\n",
              "bare_ground            862\n",
              "selective_logging      340\n",
              "artisinal_mine         339\n",
              "blooming               332\n",
              "slash_burn             209\n",
              "blow_down              101\n",
              "conventional_mine      100"
            ]
          },
          "metadata": {
            "tags": []
          }
        },
        {
          "output_type": "stream",
          "text": [
            "['haze', 'primary', 'agriculture', 'clear', 'water', 'habitation', 'road', 'cultivation', 'slash_burn', 'cloudy', 'partly_cloudy', 'conventional_mine', 'bare_ground', 'artisinal_mine', 'blooming', 'selective_logging', 'blow_down']\n",
            "17\n"
          ],
          "name": "stdout"
        }
      ]
    },
    {
      "cell_type": "code",
      "metadata": {
        "id": "AxPLOEukp5QQ",
        "colab_type": "code",
        "outputId": "f215ecd0-596a-4599-fdc2-14908ca052ec",
        "colab": {
          "base_uri": "https://localhost:8080/",
          "height": 51
        }
      },
      "source": [
        "tags_ctr.isnull().sum(axis = 0)"
      ],
      "execution_count": 9,
      "outputs": [
        {
          "output_type": "execute_result",
          "data": {
            "text/plain": [
              "counter    0\n",
              "dtype: int64"
            ]
          },
          "metadata": {
            "tags": []
          },
          "execution_count": 9
        }
      ]
    },
    {
      "cell_type": "markdown",
      "metadata": {
        "id": "sBDfqVb6wQ0E",
        "colab_type": "text"
      },
      "source": [
        "No hay valores NaN"
      ]
    },
    {
      "cell_type": "code",
      "metadata": {
        "id": "oHnWP53kccE2",
        "colab_type": "code",
        "outputId": "22366455-7211-4783-ffa7-bc91d8c3dfe2",
        "colab": {
          "base_uri": "https://localhost:8080/",
          "height": 351
        }
      },
      "source": [
        "plt.figure(figsize=(30, 5))\n",
        "sns.countplot(y=sorted(tags))"
      ],
      "execution_count": 0,
      "outputs": [
        {
          "output_type": "execute_result",
          "data": {
            "text/plain": [
              "<matplotlib.axes._subplots.AxesSubplot at 0x7fd86c0aee10>"
            ]
          },
          "metadata": {
            "tags": []
          },
          "execution_count": 136
        },
        {
          "output_type": "display_data",
          "data": {
            "image/png": "[encoded data removed]",
            "text/plain": [
              "<Figure size 2160x360 with 1 Axes>"
            ]
          },
          "metadata": {
            "tags": []
          }
        }
      ]
    },
    {
      "cell_type": "code",
      "metadata": {
        "id": "wrqVrR5tOzIY",
        "colab_type": "code",
        "outputId": "70fb1121-3e27-4cd1-929c-ce2b4bce7170",
        "colab": {
          "base_uri": "https://localhost:8080/",
          "height": 34
        }
      },
      "source": [
        "mpimg.imread('train-jpg/train_0.jpg').shape"
      ],
      "execution_count": 0,
      "outputs": [
        {
          "output_type": "execute_result",
          "data": {
            "text/plain": [
              "(256, 256, 4)"
            ]
          },
          "metadata": {
            "tags": []
          },
          "execution_count": 38
        }
      ]
    },
    {
      "cell_type": "code",
      "metadata": {
        "id": "06JrPYbQqq5A",
        "colab_type": "code",
        "colab": {}
      },
      "source": [
        "# imgplot_full = plt.imshow(mpimg.imread('train-jpg/train_1.jpg')[:,:,:])\n",
        "# plt.show()\n",
        "# imgplot_ch0 = plt.imshow(mpimg.imread('train-jpg/train_1.jpg')[:,:,0])\n",
        "# plt.show()\n",
        "# imgplot_ch1 = plt.imshow(mpimg.imread('train-jpg/train_1.jpg')[:,:,1])\n",
        "# plt.show()\n",
        "# imgplot_ch2 = plt.imshow(mpimg.imread('train-jpg/train_1.jpg')[:,:,2])\n",
        "# plt.show()\n",
        "# imgplot_ch3 = plt.imshow(mpimg.imread('train-jpg/train_1.jpg')[:,:,3])\n",
        "# plt.show()"
      ],
      "execution_count": 0,
      "outputs": []
    },
    {
      "cell_type": "markdown",
      "metadata": {
        "id": "FjnvmrgHXmYT",
        "colab_type": "text"
      },
      "source": [
        "Las imagenes son de 256x256 y son de 4 canales: RGB (3) y Alpha (1), comunmente llamado RGBA"
      ]
    },
    {
      "cell_type": "markdown",
      "metadata": {
        "id": "cQpM51PYJgcP",
        "colab_type": "text"
      },
      "source": [
        "## Conjunto de entrenamiento\n",
        "\n",
        "En base al análisis anterior, decida como separará sus datos en conjuntos de entrenamiento y testing."
      ]
    },
    {
      "cell_type": "code",
      "metadata": {
        "id": "MBUzU3bnJgcQ",
        "colab_type": "code",
        "colab": {}
      },
      "source": [
        "X_train, X_test, y_train, y_test = train_test_split(labels_df.image_name, labels_df.tags, test_size=0.2, random_state=5)"
      ],
      "execution_count": 0,
      "outputs": []
    },
    {
      "cell_type": "code",
      "metadata": {
        "id": "XsYJKgvW0Jvx",
        "colab_type": "code",
        "outputId": "a53683a8-76c8-4b45-d980-01e67a71b7e6",
        "colab": {
          "base_uri": "https://localhost:8080/",
          "height": 119
        }
      },
      "source": [
        "y_train.head()"
      ],
      "execution_count": 11,
      "outputs": [
        {
          "output_type": "execute_result",
          "data": {
            "text/plain": [
              "12728           [clear, cultivation, primary]\n",
              "6451                         [clear, primary]\n",
              "29744                        [clear, primary]\n",
              "21260    [agriculture, clear, primary, water]\n",
              "32641                        [clear, primary]\n",
              "Name: tags, dtype: object"
            ]
          },
          "metadata": {
            "tags": []
          },
          "execution_count": 11
        }
      ]
    },
    {
      "cell_type": "code",
      "metadata": {
        "id": "8VHwC0oOymNe",
        "colab_type": "code",
        "outputId": "f5b7801e-f78f-4979-9560-bfbb7e8b7775",
        "colab": {
          "base_uri": "https://localhost:8080/",
          "height": 576
        }
      },
      "source": [
        "train_tags = []\n",
        "for tag in y_train:\n",
        "  train_tags.extend(tag)\n",
        "train_tag_ctr = Counter(train_tags)\n",
        "train_tags_ctr = pd.DataFrame.from_dict(train_tag_ctr, orient=\"index\", columns=[\"counter\"])\n",
        "display(train_tags_ctr.sort_values(\"counter\", ascending=False))"
      ],
      "execution_count": 12,
      "outputs": [
        {
          "output_type": "display_data",
          "data": {
            "text/html": [
              "<div>\n",
              "<style scoped>\n",
              "    .dataframe tbody tr th:only-of-type {\n",
              "        vertical-align: middle;\n",
              "    }\n",
              "\n",
              "    .dataframe tbody tr th {\n",
              "        vertical-align: top;\n",
              "    }\n",
              "\n",
              "    .dataframe thead th {\n",
              "        text-align: right;\n",
              "    }\n",
              "</style>\n",
              "<table border=\"1\" class=\"dataframe\">\n",
              "  <thead>\n",
              "    <tr style=\"text-align: right;\">\n",
              "      <th></th>\n",
              "      <th>counter</th>\n",
              "    </tr>\n",
              "  </thead>\n",
              "  <tbody>\n",
              "    <tr>\n",
              "      <th>primary</th>\n",
              "      <td>29962</td>\n",
              "    </tr>\n",
              "    <tr>\n",
              "      <th>clear</th>\n",
              "      <td>22655</td>\n",
              "    </tr>\n",
              "    <tr>\n",
              "      <th>agriculture</th>\n",
              "      <td>9852</td>\n",
              "    </tr>\n",
              "    <tr>\n",
              "      <th>road</th>\n",
              "      <td>6452</td>\n",
              "    </tr>\n",
              "    <tr>\n",
              "      <th>water</th>\n",
              "      <td>5984</td>\n",
              "    </tr>\n",
              "    <tr>\n",
              "      <th>partly_cloudy</th>\n",
              "      <td>5871</td>\n",
              "    </tr>\n",
              "    <tr>\n",
              "      <th>cultivation</th>\n",
              "      <td>3613</td>\n",
              "    </tr>\n",
              "    <tr>\n",
              "      <th>habitation</th>\n",
              "      <td>2908</td>\n",
              "    </tr>\n",
              "    <tr>\n",
              "      <th>haze</th>\n",
              "      <td>2141</td>\n",
              "    </tr>\n",
              "    <tr>\n",
              "      <th>cloudy</th>\n",
              "      <td>1715</td>\n",
              "    </tr>\n",
              "    <tr>\n",
              "      <th>bare_ground</th>\n",
              "      <td>689</td>\n",
              "    </tr>\n",
              "    <tr>\n",
              "      <th>selective_logging</th>\n",
              "      <td>284</td>\n",
              "    </tr>\n",
              "    <tr>\n",
              "      <th>artisinal_mine</th>\n",
              "      <td>268</td>\n",
              "    </tr>\n",
              "    <tr>\n",
              "      <th>blooming</th>\n",
              "      <td>257</td>\n",
              "    </tr>\n",
              "    <tr>\n",
              "      <th>slash_burn</th>\n",
              "      <td>175</td>\n",
              "    </tr>\n",
              "    <tr>\n",
              "      <th>conventional_mine</th>\n",
              "      <td>82</td>\n",
              "    </tr>\n",
              "    <tr>\n",
              "      <th>blow_down</th>\n",
              "      <td>80</td>\n",
              "    </tr>\n",
              "  </tbody>\n",
              "</table>\n",
              "</div>"
            ],
            "text/plain": [
              "                   counter\n",
              "primary              29962\n",
              "clear                22655\n",
              "agriculture           9852\n",
              "road                  6452\n",
              "water                 5984\n",
              "partly_cloudy         5871\n",
              "cultivation           3613\n",
              "habitation            2908\n",
              "haze                  2141\n",
              "cloudy                1715\n",
              "bare_ground            689\n",
              "selective_logging      284\n",
              "artisinal_mine         268\n",
              "blooming               257\n",
              "slash_burn             175\n",
              "conventional_mine       82\n",
              "blow_down               80"
            ]
          },
          "metadata": {
            "tags": []
          }
        }
      ]
    },
    {
      "cell_type": "code",
      "metadata": {
        "id": "SFKltg-P1jAo",
        "colab_type": "code",
        "outputId": "ea518618-2d63-4b04-992b-f754dee44e1d",
        "colab": {
          "base_uri": "https://localhost:8080/",
          "height": 371
        }
      },
      "source": [
        "plt.figure(figsize=(30, 5))\n",
        "sns.countplot(y=sorted(train_tags))"
      ],
      "execution_count": 13,
      "outputs": [
        {
          "output_type": "execute_result",
          "data": {
            "text/plain": [
              "<matplotlib.axes._subplots.AxesSubplot at 0x7fd1656d75c0>"
            ]
          },
          "metadata": {
            "tags": []
          },
          "execution_count": 13
        },
        {
          "output_type": "display_data",
          "data": {
            "image/png": "[encoded data removed]",
            "text/plain": [
              "<Figure size 2160x360 with 1 Axes>"
            ]
          },
          "metadata": {
            "tags": []
          }
        }
      ]
    },
    {
      "cell_type": "code",
      "metadata": {
        "id": "0BdqvyrNEQI_",
        "colab_type": "code",
        "outputId": "9b06020a-98ef-4600-8158-79017e817e61",
        "colab": {
          "base_uri": "https://localhost:8080/",
          "height": 576
        }
      },
      "source": [
        "test_tags = []\n",
        "for tag in y_train:\n",
        "  test_tags.extend(tag)\n",
        "test_tag_ctr = Counter(test_tags)\n",
        "test_tags_ctr = pd.DataFrame.from_dict(test_tag_ctr, orient=\"index\", columns=[\"counter\"])\n",
        "display(test_tags_ctr.sort_values(\"counter\", ascending=False))"
      ],
      "execution_count": 14,
      "outputs": [
        {
          "output_type": "display_data",
          "data": {
            "text/html": [
              "<div>\n",
              "<style scoped>\n",
              "    .dataframe tbody tr th:only-of-type {\n",
              "        vertical-align: middle;\n",
              "    }\n",
              "\n",
              "    .dataframe tbody tr th {\n",
              "        vertical-align: top;\n",
              "    }\n",
              "\n",
              "    .dataframe thead th {\n",
              "        text-align: right;\n",
              "    }\n",
              "</style>\n",
              "<table border=\"1\" class=\"dataframe\">\n",
              "  <thead>\n",
              "    <tr style=\"text-align: right;\">\n",
              "      <th></th>\n",
              "      <th>counter</th>\n",
              "    </tr>\n",
              "  </thead>\n",
              "  <tbody>\n",
              "    <tr>\n",
              "      <th>primary</th>\n",
              "      <td>29962</td>\n",
              "    </tr>\n",
              "    <tr>\n",
              "      <th>clear</th>\n",
              "      <td>22655</td>\n",
              "    </tr>\n",
              "    <tr>\n",
              "      <th>agriculture</th>\n",
              "      <td>9852</td>\n",
              "    </tr>\n",
              "    <tr>\n",
              "      <th>road</th>\n",
              "      <td>6452</td>\n",
              "    </tr>\n",
              "    <tr>\n",
              "      <th>water</th>\n",
              "      <td>5984</td>\n",
              "    </tr>\n",
              "    <tr>\n",
              "      <th>partly_cloudy</th>\n",
              "      <td>5871</td>\n",
              "    </tr>\n",
              "    <tr>\n",
              "      <th>cultivation</th>\n",
              "      <td>3613</td>\n",
              "    </tr>\n",
              "    <tr>\n",
              "      <th>habitation</th>\n",
              "      <td>2908</td>\n",
              "    </tr>\n",
              "    <tr>\n",
              "      <th>haze</th>\n",
              "      <td>2141</td>\n",
              "    </tr>\n",
              "    <tr>\n",
              "      <th>cloudy</th>\n",
              "      <td>1715</td>\n",
              "    </tr>\n",
              "    <tr>\n",
              "      <th>bare_ground</th>\n",
              "      <td>689</td>\n",
              "    </tr>\n",
              "    <tr>\n",
              "      <th>selective_logging</th>\n",
              "      <td>284</td>\n",
              "    </tr>\n",
              "    <tr>\n",
              "      <th>artisinal_mine</th>\n",
              "      <td>268</td>\n",
              "    </tr>\n",
              "    <tr>\n",
              "      <th>blooming</th>\n",
              "      <td>257</td>\n",
              "    </tr>\n",
              "    <tr>\n",
              "      <th>slash_burn</th>\n",
              "      <td>175</td>\n",
              "    </tr>\n",
              "    <tr>\n",
              "      <th>conventional_mine</th>\n",
              "      <td>82</td>\n",
              "    </tr>\n",
              "    <tr>\n",
              "      <th>blow_down</th>\n",
              "      <td>80</td>\n",
              "    </tr>\n",
              "  </tbody>\n",
              "</table>\n",
              "</div>"
            ],
            "text/plain": [
              "                   counter\n",
              "primary              29962\n",
              "clear                22655\n",
              "agriculture           9852\n",
              "road                  6452\n",
              "water                 5984\n",
              "partly_cloudy         5871\n",
              "cultivation           3613\n",
              "habitation            2908\n",
              "haze                  2141\n",
              "cloudy                1715\n",
              "bare_ground            689\n",
              "selective_logging      284\n",
              "artisinal_mine         268\n",
              "blooming               257\n",
              "slash_burn             175\n",
              "conventional_mine       82\n",
              "blow_down               80"
            ]
          },
          "metadata": {
            "tags": []
          }
        }
      ]
    },
    {
      "cell_type": "code",
      "metadata": {
        "id": "7jSFIvDzEW22",
        "colab_type": "code",
        "outputId": "9696f9e1-fef0-45d7-fc47-d66b41052017",
        "colab": {
          "base_uri": "https://localhost:8080/",
          "height": 371
        }
      },
      "source": [
        "plt.figure(figsize=(30, 5))\n",
        "sns.countplot(y=sorted(test_tags))"
      ],
      "execution_count": 15,
      "outputs": [
        {
          "output_type": "execute_result",
          "data": {
            "text/plain": [
              "<matplotlib.axes._subplots.AxesSubplot at 0x7fd1048988d0>"
            ]
          },
          "metadata": {
            "tags": []
          },
          "execution_count": 15
        },
        {
          "output_type": "display_data",
          "data": {
            "image/png": "[encoded data removed]",
            "text/plain": [
              "<Figure size 2160x360 with 1 Axes>"
            ]
          },
          "metadata": {
            "tags": []
          }
        }
      ]
    },
    {
      "cell_type": "markdown",
      "metadata": {
        "id": "L3X0v9gnJgcU",
        "colab_type": "text"
      },
      "source": [
        "## Data Augmentation\n",
        "\n",
        "Proponga algún de pre-procesamiento y aumentado de datos, visualice los resultados del método propuesto. Puede experimentar y elegir el que mejor funcione en sus entrenamientos.\n",
        "\n",
        "**Ayuda:** Al tener sus anotaciones en formato csv, lo mas sensillo sería utilizar el método [flow_from_dataframe](https://keras.io/preprocessing/image/#flow_from_dataframe) de la clase `ImageDataGenerator` de `Keras`."
      ]
    },
    {
      "cell_type": "code",
      "metadata": {
        "id": "xJ4Yk5IpJeFz",
        "colab_type": "code",
        "outputId": "25a831fe-32c3-45fa-edab-c93695be14ea",
        "colab": {
          "base_uri": "https://localhost:8080/",
          "height": 833
        }
      },
      "source": [
        "tokenizer = Tokenizer(filters=' ')\n",
        "tokenizer.fit_on_texts(labels)\n",
        "display(tokenizer.index_word)\n",
        "\n",
        "label_seq = tokenizer.texts_to_sequences(y_train)\n",
        "display(y_train[0:10])\n",
        "display(label_seq[0:10])\n",
        "\n",
        "label_length=len(tokenizer.word_index)+1\n",
        "train_onehot_labels = [to_categorical(label, num_classes=label_length, dtype='int32').sum(axis=0)[1:] for label in label_seq]\n",
        "display(train_onehot_labels[0:10])\n",
        "# image_paths=[img_folder+img+\".png\" for img in image_name]"
      ],
      "execution_count": 26,
      "outputs": [
        {
          "output_type": "display_data",
          "data": {
            "text/plain": [
              "{1: 'haze',\n",
              " 2: 'primary',\n",
              " 3: 'agriculture',\n",
              " 4: 'clear',\n",
              " 5: 'water',\n",
              " 6: 'habitation',\n",
              " 7: 'road',\n",
              " 8: 'cultivation',\n",
              " 9: 'slash_burn',\n",
              " 10: 'cloudy',\n",
              " 11: 'partly_cloudy',\n",
              " 12: 'conventional_mine',\n",
              " 13: 'bare_ground',\n",
              " 14: 'artisinal_mine',\n",
              " 15: 'blooming',\n",
              " 16: 'selective_logging',\n",
              " 17: 'blow_down'}"
            ]
          },
          "metadata": {
            "tags": []
          }
        },
        {
          "output_type": "display_data",
          "data": {
            "text/plain": [
              "12728           [clear, cultivation, primary]\n",
              "6451                         [clear, primary]\n",
              "29744                        [clear, primary]\n",
              "21260    [agriculture, clear, primary, water]\n",
              "32641                        [clear, primary]\n",
              "30458                        [clear, primary]\n",
              "1948               [blooming, clear, primary]\n",
              "34200    [agriculture, clear, primary, water]\n",
              "26786                          [clear, water]\n",
              "5883            [clear, cultivation, primary]\n",
              "Name: tags, dtype: object"
            ]
          },
          "metadata": {
            "tags": []
          }
        },
        {
          "output_type": "display_data",
          "data": {
            "text/plain": [
              "[[4, 8, 2],\n",
              " [4, 2],\n",
              " [4, 2],\n",
              " [3, 4, 2, 5],\n",
              " [4, 2],\n",
              " [4, 2],\n",
              " [15, 4, 2],\n",
              " [3, 4, 2, 5],\n",
              " [4, 5],\n",
              " [4, 8, 2]]"
            ]
          },
          "metadata": {
            "tags": []
          }
        },
        {
          "output_type": "display_data",
          "data": {
            "text/plain": [
              "[array([0, 1, 0, 1, 0, 0, 0, 1, 0, 0, 0, 0, 0, 0, 0, 0, 0]),\n",
              " array([0, 1, 0, 1, 0, 0, 0, 0, 0, 0, 0, 0, 0, 0, 0, 0, 0]),\n",
              " array([0, 1, 0, 1, 0, 0, 0, 0, 0, 0, 0, 0, 0, 0, 0, 0, 0]),\n",
              " array([0, 1, 1, 1, 1, 0, 0, 0, 0, 0, 0, 0, 0, 0, 0, 0, 0]),\n",
              " array([0, 1, 0, 1, 0, 0, 0, 0, 0, 0, 0, 0, 0, 0, 0, 0, 0]),\n",
              " array([0, 1, 0, 1, 0, 0, 0, 0, 0, 0, 0, 0, 0, 0, 0, 0, 0]),\n",
              " array([0, 1, 0, 1, 0, 0, 0, 0, 0, 0, 0, 0, 0, 0, 1, 0, 0]),\n",
              " array([0, 1, 1, 1, 1, 0, 0, 0, 0, 0, 0, 0, 0, 0, 0, 0, 0]),\n",
              " array([0, 0, 0, 1, 1, 0, 0, 0, 0, 0, 0, 0, 0, 0, 0, 0, 0]),\n",
              " array([0, 1, 0, 1, 0, 0, 0, 1, 0, 0, 0, 0, 0, 0, 0, 0, 0])]"
            ]
          },
          "metadata": {
            "tags": []
          }
        }
      ]
    },
    {
      "cell_type": "code",
      "metadata": {
        "id": "ZAyyaUKIqEEQ",
        "colab_type": "code",
        "outputId": "d26d6c74-2add-4d18-8ebf-54944daf39b7",
        "colab": {
          "base_uri": "https://localhost:8080/",
          "height": 1000
        }
      },
      "source": [
        "train_df = pd.DataFrame([X_train]).T\n",
        "train_df[\"index\"] = range(0, train_df.shape[0])\n",
        "display(train_df.shape)\n",
        "display(train_df.head(10))\n",
        "\n",
        "categories = pd.DataFrame(train_onehot_labels, columns=tokenizer.index_word.values())\n",
        "categories[\"index\"] = range(0, categories.shape[0])\n",
        "display(categories.shape)\n",
        "display(categories.head(10))\n",
        "\n",
        "train_df = pd.merge(train_df, categories, left_on=\"index\", right_on=\"index\", how=\"outer\")\n",
        "display(train_df.head(10))\n",
        "display(train_df.shape)"
      ],
      "execution_count": 27,
      "outputs": [
        {
          "output_type": "display_data",
          "data": {
            "text/plain": [
              "(32383, 2)"
            ]
          },
          "metadata": {
            "tags": []
          }
        },
        {
          "output_type": "display_data",
          "data": {
            "text/html": [
              "<div>\n",
              "<style scoped>\n",
              "    .dataframe tbody tr th:only-of-type {\n",
              "        vertical-align: middle;\n",
              "    }\n",
              "\n",
              "    .dataframe tbody tr th {\n",
              "        vertical-align: top;\n",
              "    }\n",
              "\n",
              "    .dataframe thead th {\n",
              "        text-align: right;\n",
              "    }\n",
              "</style>\n",
              "<table border=\"1\" class=\"dataframe\">\n",
              "  <thead>\n",
              "    <tr style=\"text-align: right;\">\n",
              "      <th></th>\n",
              "      <th>image_name</th>\n",
              "      <th>index</th>\n",
              "    </tr>\n",
              "  </thead>\n",
              "  <tbody>\n",
              "    <tr>\n",
              "      <th>12728</th>\n",
              "      <td>train-jpg/train_12728.jpg</td>\n",
              "      <td>0</td>\n",
              "    </tr>\n",
              "    <tr>\n",
              "      <th>6451</th>\n",
              "      <td>train-jpg/train_6451.jpg</td>\n",
              "      <td>1</td>\n",
              "    </tr>\n",
              "    <tr>\n",
              "      <th>29744</th>\n",
              "      <td>train-jpg/train_29744.jpg</td>\n",
              "      <td>2</td>\n",
              "    </tr>\n",
              "    <tr>\n",
              "      <th>21260</th>\n",
              "      <td>train-jpg/train_21260.jpg</td>\n",
              "      <td>3</td>\n",
              "    </tr>\n",
              "    <tr>\n",
              "      <th>32641</th>\n",
              "      <td>train-jpg/train_32641.jpg</td>\n",
              "      <td>4</td>\n",
              "    </tr>\n",
              "    <tr>\n",
              "      <th>30458</th>\n",
              "      <td>train-jpg/train_30458.jpg</td>\n",
              "      <td>5</td>\n",
              "    </tr>\n",
              "    <tr>\n",
              "      <th>1948</th>\n",
              "      <td>train-jpg/train_1948.jpg</td>\n",
              "      <td>6</td>\n",
              "    </tr>\n",
              "    <tr>\n",
              "      <th>34200</th>\n",
              "      <td>train-jpg/train_34200.jpg</td>\n",
              "      <td>7</td>\n",
              "    </tr>\n",
              "    <tr>\n",
              "      <th>26786</th>\n",
              "      <td>train-jpg/train_26786.jpg</td>\n",
              "      <td>8</td>\n",
              "    </tr>\n",
              "    <tr>\n",
              "      <th>5883</th>\n",
              "      <td>train-jpg/train_5883.jpg</td>\n",
              "      <td>9</td>\n",
              "    </tr>\n",
              "  </tbody>\n",
              "</table>\n",
              "</div>"
            ],
            "text/plain": [
              "                      image_name  index\n",
              "12728  train-jpg/train_12728.jpg      0\n",
              "6451    train-jpg/train_6451.jpg      1\n",
              "29744  train-jpg/train_29744.jpg      2\n",
              "21260  train-jpg/train_21260.jpg      3\n",
              "32641  train-jpg/train_32641.jpg      4\n",
              "30458  train-jpg/train_30458.jpg      5\n",
              "1948    train-jpg/train_1948.jpg      6\n",
              "34200  train-jpg/train_34200.jpg      7\n",
              "26786  train-jpg/train_26786.jpg      8\n",
              "5883    train-jpg/train_5883.jpg      9"
            ]
          },
          "metadata": {
            "tags": []
          }
        },
        {
          "output_type": "display_data",
          "data": {
            "text/plain": [
              "(32383, 18)"
            ]
          },
          "metadata": {
            "tags": []
          }
        },
        {
          "output_type": "display_data",
          "data": {
            "text/html": [
              "<div>\n",
              "<style scoped>\n",
              "    .dataframe tbody tr th:only-of-type {\n",
              "        vertical-align: middle;\n",
              "    }\n",
              "\n",
              "    .dataframe tbody tr th {\n",
              "        vertical-align: top;\n",
              "    }\n",
              "\n",
              "    .dataframe thead th {\n",
              "        text-align: right;\n",
              "    }\n",
              "</style>\n",
              "<table border=\"1\" class=\"dataframe\">\n",
              "  <thead>\n",
              "    <tr style=\"text-align: right;\">\n",
              "      <th></th>\n",
              "      <th>haze</th>\n",
              "      <th>primary</th>\n",
              "      <th>agriculture</th>\n",
              "      <th>clear</th>\n",
              "      <th>water</th>\n",
              "      <th>habitation</th>\n",
              "      <th>road</th>\n",
              "      <th>cultivation</th>\n",
              "      <th>slash_burn</th>\n",
              "      <th>cloudy</th>\n",
              "      <th>partly_cloudy</th>\n",
              "      <th>conventional_mine</th>\n",
              "      <th>bare_ground</th>\n",
              "      <th>artisinal_mine</th>\n",
              "      <th>blooming</th>\n",
              "      <th>selective_logging</th>\n",
              "      <th>blow_down</th>\n",
              "      <th>index</th>\n",
              "    </tr>\n",
              "  </thead>\n",
              "  <tbody>\n",
              "    <tr>\n",
              "      <th>0</th>\n",
              "      <td>0</td>\n",
              "      <td>1</td>\n",
              "      <td>0</td>\n",
              "      <td>1</td>\n",
              "      <td>0</td>\n",
              "      <td>0</td>\n",
              "      <td>0</td>\n",
              "      <td>1</td>\n",
              "      <td>0</td>\n",
              "      <td>0</td>\n",
              "      <td>0</td>\n",
              "      <td>0</td>\n",
              "      <td>0</td>\n",
              "      <td>0</td>\n",
              "      <td>0</td>\n",
              "      <td>0</td>\n",
              "      <td>0</td>\n",
              "      <td>0</td>\n",
              "    </tr>\n",
              "    <tr>\n",
              "      <th>1</th>\n",
              "      <td>0</td>\n",
              "      <td>1</td>\n",
              "      <td>0</td>\n",
              "      <td>1</td>\n",
              "      <td>0</td>\n",
              "      <td>0</td>\n",
              "      <td>0</td>\n",
              "      <td>0</td>\n",
              "      <td>0</td>\n",
              "      <td>0</td>\n",
              "      <td>0</td>\n",
              "      <td>0</td>\n",
              "      <td>0</td>\n",
              "      <td>0</td>\n",
              "      <td>0</td>\n",
              "      <td>0</td>\n",
              "      <td>0</td>\n",
              "      <td>1</td>\n",
              "    </tr>\n",
              "    <tr>\n",
              "      <th>2</th>\n",
              "      <td>0</td>\n",
              "      <td>1</td>\n",
              "      <td>0</td>\n",
              "      <td>1</td>\n",
              "      <td>0</td>\n",
              "      <td>0</td>\n",
              "      <td>0</td>\n",
              "      <td>0</td>\n",
              "      <td>0</td>\n",
              "      <td>0</td>\n",
              "      <td>0</td>\n",
              "      <td>0</td>\n",
              "      <td>0</td>\n",
              "      <td>0</td>\n",
              "      <td>0</td>\n",
              "      <td>0</td>\n",
              "      <td>0</td>\n",
              "      <td>2</td>\n",
              "    </tr>\n",
              "    <tr>\n",
              "      <th>3</th>\n",
              "      <td>0</td>\n",
              "      <td>1</td>\n",
              "      <td>1</td>\n",
              "      <td>1</td>\n",
              "      <td>1</td>\n",
              "      <td>0</td>\n",
              "      <td>0</td>\n",
              "      <td>0</td>\n",
              "      <td>0</td>\n",
              "      <td>0</td>\n",
              "      <td>0</td>\n",
              "      <td>0</td>\n",
              "      <td>0</td>\n",
              "      <td>0</td>\n",
              "      <td>0</td>\n",
              "      <td>0</td>\n",
              "      <td>0</td>\n",
              "      <td>3</td>\n",
              "    </tr>\n",
              "    <tr>\n",
              "      <th>4</th>\n",
              "      <td>0</td>\n",
              "      <td>1</td>\n",
              "      <td>0</td>\n",
              "      <td>1</td>\n",
              "      <td>0</td>\n",
              "      <td>0</td>\n",
              "      <td>0</td>\n",
              "      <td>0</td>\n",
              "      <td>0</td>\n",
              "      <td>0</td>\n",
              "      <td>0</td>\n",
              "      <td>0</td>\n",
              "      <td>0</td>\n",
              "      <td>0</td>\n",
              "      <td>0</td>\n",
              "      <td>0</td>\n",
              "      <td>0</td>\n",
              "      <td>4</td>\n",
              "    </tr>\n",
              "    <tr>\n",
              "      <th>5</th>\n",
              "      <td>0</td>\n",
              "      <td>1</td>\n",
              "      <td>0</td>\n",
              "      <td>1</td>\n",
              "      <td>0</td>\n",
              "      <td>0</td>\n",
              "      <td>0</td>\n",
              "      <td>0</td>\n",
              "      <td>0</td>\n",
              "      <td>0</td>\n",
              "      <td>0</td>\n",
              "      <td>0</td>\n",
              "      <td>0</td>\n",
              "      <td>0</td>\n",
              "      <td>0</td>\n",
              "      <td>0</td>\n",
              "      <td>0</td>\n",
              "      <td>5</td>\n",
              "    </tr>\n",
              "    <tr>\n",
              "      <th>6</th>\n",
              "      <td>0</td>\n",
              "      <td>1</td>\n",
              "      <td>0</td>\n",
              "      <td>1</td>\n",
              "      <td>0</td>\n",
              "      <td>0</td>\n",
              "      <td>0</td>\n",
              "      <td>0</td>\n",
              "      <td>0</td>\n",
              "      <td>0</td>\n",
              "      <td>0</td>\n",
              "      <td>0</td>\n",
              "      <td>0</td>\n",
              "      <td>0</td>\n",
              "      <td>1</td>\n",
              "      <td>0</td>\n",
              "      <td>0</td>\n",
              "      <td>6</td>\n",
              "    </tr>\n",
              "    <tr>\n",
              "      <th>7</th>\n",
              "      <td>0</td>\n",
              "      <td>1</td>\n",
              "      <td>1</td>\n",
              "      <td>1</td>\n",
              "      <td>1</td>\n",
              "      <td>0</td>\n",
              "      <td>0</td>\n",
              "      <td>0</td>\n",
              "      <td>0</td>\n",
              "      <td>0</td>\n",
              "      <td>0</td>\n",
              "      <td>0</td>\n",
              "      <td>0</td>\n",
              "      <td>0</td>\n",
              "      <td>0</td>\n",
              "      <td>0</td>\n",
              "      <td>0</td>\n",
              "      <td>7</td>\n",
              "    </tr>\n",
              "    <tr>\n",
              "      <th>8</th>\n",
              "      <td>0</td>\n",
              "      <td>0</td>\n",
              "      <td>0</td>\n",
              "      <td>1</td>\n",
              "      <td>1</td>\n",
              "      <td>0</td>\n",
              "      <td>0</td>\n",
              "      <td>0</td>\n",
              "      <td>0</td>\n",
              "      <td>0</td>\n",
              "      <td>0</td>\n",
              "      <td>0</td>\n",
              "      <td>0</td>\n",
              "      <td>0</td>\n",
              "      <td>0</td>\n",
              "      <td>0</td>\n",
              "      <td>0</td>\n",
              "      <td>8</td>\n",
              "    </tr>\n",
              "    <tr>\n",
              "      <th>9</th>\n",
              "      <td>0</td>\n",
              "      <td>1</td>\n",
              "      <td>0</td>\n",
              "      <td>1</td>\n",
              "      <td>0</td>\n",
              "      <td>0</td>\n",
              "      <td>0</td>\n",
              "      <td>1</td>\n",
              "      <td>0</td>\n",
              "      <td>0</td>\n",
              "      <td>0</td>\n",
              "      <td>0</td>\n",
              "      <td>0</td>\n",
              "      <td>0</td>\n",
              "      <td>0</td>\n",
              "      <td>0</td>\n",
              "      <td>0</td>\n",
              "      <td>9</td>\n",
              "    </tr>\n",
              "  </tbody>\n",
              "</table>\n",
              "</div>"
            ],
            "text/plain": [
              "   haze  primary  agriculture  ...  selective_logging  blow_down  index\n",
              "0     0        1            0  ...                  0          0      0\n",
              "1     0        1            0  ...                  0          0      1\n",
              "2     0        1            0  ...                  0          0      2\n",
              "3     0        1            1  ...                  0          0      3\n",
              "4     0        1            0  ...                  0          0      4\n",
              "5     0        1            0  ...                  0          0      5\n",
              "6     0        1            0  ...                  0          0      6\n",
              "7     0        1            1  ...                  0          0      7\n",
              "8     0        0            0  ...                  0          0      8\n",
              "9     0        1            0  ...                  0          0      9\n",
              "\n",
              "[10 rows x 18 columns]"
            ]
          },
          "metadata": {
            "tags": []
          }
        },
        {
          "output_type": "display_data",
          "data": {
            "text/html": [
              "<div>\n",
              "<style scoped>\n",
              "    .dataframe tbody tr th:only-of-type {\n",
              "        vertical-align: middle;\n",
              "    }\n",
              "\n",
              "    .dataframe tbody tr th {\n",
              "        vertical-align: top;\n",
              "    }\n",
              "\n",
              "    .dataframe thead th {\n",
              "        text-align: right;\n",
              "    }\n",
              "</style>\n",
              "<table border=\"1\" class=\"dataframe\">\n",
              "  <thead>\n",
              "    <tr style=\"text-align: right;\">\n",
              "      <th></th>\n",
              "      <th>image_name</th>\n",
              "      <th>index</th>\n",
              "      <th>haze</th>\n",
              "      <th>primary</th>\n",
              "      <th>agriculture</th>\n",
              "      <th>clear</th>\n",
              "      <th>water</th>\n",
              "      <th>habitation</th>\n",
              "      <th>road</th>\n",
              "      <th>cultivation</th>\n",
              "      <th>slash_burn</th>\n",
              "      <th>cloudy</th>\n",
              "      <th>partly_cloudy</th>\n",
              "      <th>conventional_mine</th>\n",
              "      <th>bare_ground</th>\n",
              "      <th>artisinal_mine</th>\n",
              "      <th>blooming</th>\n",
              "      <th>selective_logging</th>\n",
              "      <th>blow_down</th>\n",
              "    </tr>\n",
              "  </thead>\n",
              "  <tbody>\n",
              "    <tr>\n",
              "      <th>0</th>\n",
              "      <td>train-jpg/train_12728.jpg</td>\n",
              "      <td>0</td>\n",
              "      <td>0</td>\n",
              "      <td>1</td>\n",
              "      <td>0</td>\n",
              "      <td>1</td>\n",
              "      <td>0</td>\n",
              "      <td>0</td>\n",
              "      <td>0</td>\n",
              "      <td>1</td>\n",
              "      <td>0</td>\n",
              "      <td>0</td>\n",
              "      <td>0</td>\n",
              "      <td>0</td>\n",
              "      <td>0</td>\n",
              "      <td>0</td>\n",
              "      <td>0</td>\n",
              "      <td>0</td>\n",
              "      <td>0</td>\n",
              "    </tr>\n",
              "    <tr>\n",
              "      <th>1</th>\n",
              "      <td>train-jpg/train_6451.jpg</td>\n",
              "      <td>1</td>\n",
              "      <td>0</td>\n",
              "      <td>1</td>\n",
              "      <td>0</td>\n",
              "      <td>1</td>\n",
              "      <td>0</td>\n",
              "      <td>0</td>\n",
              "      <td>0</td>\n",
              "      <td>0</td>\n",
              "      <td>0</td>\n",
              "      <td>0</td>\n",
              "      <td>0</td>\n",
              "      <td>0</td>\n",
              "      <td>0</td>\n",
              "      <td>0</td>\n",
              "      <td>0</td>\n",
              "      <td>0</td>\n",
              "      <td>0</td>\n",
              "    </tr>\n",
              "    <tr>\n",
              "      <th>2</th>\n",
              "      <td>train-jpg/train_29744.jpg</td>\n",
              "      <td>2</td>\n",
              "      <td>0</td>\n",
              "      <td>1</td>\n",
              "      <td>0</td>\n",
              "      <td>1</td>\n",
              "      <td>0</td>\n",
              "      <td>0</td>\n",
              "      <td>0</td>\n",
              "      <td>0</td>\n",
              "      <td>0</td>\n",
              "      <td>0</td>\n",
              "      <td>0</td>\n",
              "      <td>0</td>\n",
              "      <td>0</td>\n",
              "      <td>0</td>\n",
              "      <td>0</td>\n",
              "      <td>0</td>\n",
              "      <td>0</td>\n",
              "    </tr>\n",
              "    <tr>\n",
              "      <th>3</th>\n",
              "      <td>train-jpg/train_21260.jpg</td>\n",
              "      <td>3</td>\n",
              "      <td>0</td>\n",
              "      <td>1</td>\n",
              "      <td>1</td>\n",
              "      <td>1</td>\n",
              "      <td>1</td>\n",
              "      <td>0</td>\n",
              "      <td>0</td>\n",
              "      <td>0</td>\n",
              "      <td>0</td>\n",
              "      <td>0</td>\n",
              "      <td>0</td>\n",
              "      <td>0</td>\n",
              "      <td>0</td>\n",
              "      <td>0</td>\n",
              "      <td>0</td>\n",
              "      <td>0</td>\n",
              "      <td>0</td>\n",
              "    </tr>\n",
              "    <tr>\n",
              "      <th>4</th>\n",
              "      <td>train-jpg/train_32641.jpg</td>\n",
              "      <td>4</td>\n",
              "      <td>0</td>\n",
              "      <td>1</td>\n",
              "      <td>0</td>\n",
              "      <td>1</td>\n",
              "      <td>0</td>\n",
              "      <td>0</td>\n",
              "      <td>0</td>\n",
              "      <td>0</td>\n",
              "      <td>0</td>\n",
              "      <td>0</td>\n",
              "      <td>0</td>\n",
              "      <td>0</td>\n",
              "      <td>0</td>\n",
              "      <td>0</td>\n",
              "      <td>0</td>\n",
              "      <td>0</td>\n",
              "      <td>0</td>\n",
              "    </tr>\n",
              "    <tr>\n",
              "      <th>5</th>\n",
              "      <td>train-jpg/train_30458.jpg</td>\n",
              "      <td>5</td>\n",
              "      <td>0</td>\n",
              "      <td>1</td>\n",
              "      <td>0</td>\n",
              "      <td>1</td>\n",
              "      <td>0</td>\n",
              "      <td>0</td>\n",
              "      <td>0</td>\n",
              "      <td>0</td>\n",
              "      <td>0</td>\n",
              "      <td>0</td>\n",
              "      <td>0</td>\n",
              "      <td>0</td>\n",
              "      <td>0</td>\n",
              "      <td>0</td>\n",
              "      <td>0</td>\n",
              "      <td>0</td>\n",
              "      <td>0</td>\n",
              "    </tr>\n",
              "    <tr>\n",
              "      <th>6</th>\n",
              "      <td>train-jpg/train_1948.jpg</td>\n",
              "      <td>6</td>\n",
              "      <td>0</td>\n",
              "      <td>1</td>\n",
              "      <td>0</td>\n",
              "      <td>1</td>\n",
              "      <td>0</td>\n",
              "      <td>0</td>\n",
              "      <td>0</td>\n",
              "      <td>0</td>\n",
              "      <td>0</td>\n",
              "      <td>0</td>\n",
              "      <td>0</td>\n",
              "      <td>0</td>\n",
              "      <td>0</td>\n",
              "      <td>0</td>\n",
              "      <td>1</td>\n",
              "      <td>0</td>\n",
              "      <td>0</td>\n",
              "    </tr>\n",
              "    <tr>\n",
              "      <th>7</th>\n",
              "      <td>train-jpg/train_34200.jpg</td>\n",
              "      <td>7</td>\n",
              "      <td>0</td>\n",
              "      <td>1</td>\n",
              "      <td>1</td>\n",
              "      <td>1</td>\n",
              "      <td>1</td>\n",
              "      <td>0</td>\n",
              "      <td>0</td>\n",
              "      <td>0</td>\n",
              "      <td>0</td>\n",
              "      <td>0</td>\n",
              "      <td>0</td>\n",
              "      <td>0</td>\n",
              "      <td>0</td>\n",
              "      <td>0</td>\n",
              "      <td>0</td>\n",
              "      <td>0</td>\n",
              "      <td>0</td>\n",
              "    </tr>\n",
              "    <tr>\n",
              "      <th>8</th>\n",
              "      <td>train-jpg/train_26786.jpg</td>\n",
              "      <td>8</td>\n",
              "      <td>0</td>\n",
              "      <td>0</td>\n",
              "      <td>0</td>\n",
              "      <td>1</td>\n",
              "      <td>1</td>\n",
              "      <td>0</td>\n",
              "      <td>0</td>\n",
              "      <td>0</td>\n",
              "      <td>0</td>\n",
              "      <td>0</td>\n",
              "      <td>0</td>\n",
              "      <td>0</td>\n",
              "      <td>0</td>\n",
              "      <td>0</td>\n",
              "      <td>0</td>\n",
              "      <td>0</td>\n",
              "      <td>0</td>\n",
              "    </tr>\n",
              "    <tr>\n",
              "      <th>9</th>\n",
              "      <td>train-jpg/train_5883.jpg</td>\n",
              "      <td>9</td>\n",
              "      <td>0</td>\n",
              "      <td>1</td>\n",
              "      <td>0</td>\n",
              "      <td>1</td>\n",
              "      <td>0</td>\n",
              "      <td>0</td>\n",
              "      <td>0</td>\n",
              "      <td>1</td>\n",
              "      <td>0</td>\n",
              "      <td>0</td>\n",
              "      <td>0</td>\n",
              "      <td>0</td>\n",
              "      <td>0</td>\n",
              "      <td>0</td>\n",
              "      <td>0</td>\n",
              "      <td>0</td>\n",
              "      <td>0</td>\n",
              "    </tr>\n",
              "  </tbody>\n",
              "</table>\n",
              "</div>"
            ],
            "text/plain": [
              "                  image_name  index  ...  selective_logging  blow_down\n",
              "0  train-jpg/train_12728.jpg      0  ...                  0          0\n",
              "1   train-jpg/train_6451.jpg      1  ...                  0          0\n",
              "2  train-jpg/train_29744.jpg      2  ...                  0          0\n",
              "3  train-jpg/train_21260.jpg      3  ...                  0          0\n",
              "4  train-jpg/train_32641.jpg      4  ...                  0          0\n",
              "5  train-jpg/train_30458.jpg      5  ...                  0          0\n",
              "6   train-jpg/train_1948.jpg      6  ...                  0          0\n",
              "7  train-jpg/train_34200.jpg      7  ...                  0          0\n",
              "8  train-jpg/train_26786.jpg      8  ...                  0          0\n",
              "9   train-jpg/train_5883.jpg      9  ...                  0          0\n",
              "\n",
              "[10 rows x 19 columns]"
            ]
          },
          "metadata": {
            "tags": []
          }
        },
        {
          "output_type": "display_data",
          "data": {
            "text/plain": [
              "(32383, 19)"
            ]
          },
          "metadata": {
            "tags": []
          }
        }
      ]
    },
    {
      "cell_type": "code",
      "metadata": {
        "id": "ggvE028Ys2Vx",
        "colab_type": "code",
        "outputId": "4d8ca4d1-360a-41eb-aebb-77f4c8afb3ac",
        "colab": {
          "base_uri": "https://localhost:8080/",
          "height": 357
        }
      },
      "source": [
        "train_df.isna().sum(axis = 0)"
      ],
      "execution_count": 28,
      "outputs": [
        {
          "output_type": "execute_result",
          "data": {
            "text/plain": [
              "image_name           0\n",
              "index                0\n",
              "haze                 0\n",
              "primary              0\n",
              "agriculture          0\n",
              "clear                0\n",
              "water                0\n",
              "habitation           0\n",
              "road                 0\n",
              "cultivation          0\n",
              "slash_burn           0\n",
              "cloudy               0\n",
              "partly_cloudy        0\n",
              "conventional_mine    0\n",
              "bare_ground          0\n",
              "artisinal_mine       0\n",
              "blooming             0\n",
              "selective_logging    0\n",
              "blow_down            0\n",
              "dtype: int64"
            ]
          },
          "metadata": {
            "tags": []
          },
          "execution_count": 28
        }
      ]
    },
    {
      "cell_type": "code",
      "metadata": {
        "id": "mZN3AflPHzBs",
        "colab_type": "code",
        "colab": {}
      },
      "source": [
        "datagen = ImageDataGenerator(rescale=1./255., rotation_range=45, brightness_range=[-1.0, 1.0], horizontal_flip=True, vertical_flip=True)\n",
        "test_datagen = ImageDataGenerator(rescale=1./255.)"
      ],
      "execution_count": 0,
      "outputs": []
    },
    {
      "cell_type": "code",
      "metadata": {
        "id": "VnYGrfx9JgcV",
        "colab_type": "code",
        "outputId": "26698d40-2e5a-4d85-e3e8-046236284a82",
        "colab": {
          "base_uri": "https://localhost:8080/",
          "height": 34
        }
      },
      "source": [
        "train_generator = datagen.flow_from_dataframe(dataframe=train_df, \n",
        "                                              y_col=\"index\",\n",
        "                                              x_col=\"image_name\", \n",
        "                                              directory=\".\", \n",
        "                                              target_size=(256, 256), \n",
        "                                              color_mode='rgba', \n",
        "                                              classes=None, \n",
        "                                              class_mode=\"raw\",\n",
        "                                              batch_size=32,\n",
        "                                              shuffle=True\n",
        ")"
      ],
      "execution_count": 30,
      "outputs": [
        {
          "output_type": "stream",
          "text": [
            "Found 32383 validated image filenames.\n"
          ],
          "name": "stdout"
        }
      ]
    },
    {
      "cell_type": "code",
      "metadata": {
        "id": "0E0FkPGvzVD2",
        "colab_type": "code",
        "outputId": "6c0f9a5b-64ba-4692-fa30-14bd9f1966ae",
        "colab": {
          "base_uri": "https://localhost:8080/",
          "height": 544
        }
      },
      "source": [
        "label_seq = tokenizer.texts_to_sequences(y_test)\n",
        "display(y_test[0:10])\n",
        "display(label_seq[0:10])\n",
        "\n",
        "label_length=len(tokenizer.word_index)+1\n",
        "test_onehot_labels = [to_categorical(label, num_classes=label_length, dtype='int32').sum(axis=0)[1:] for label in label_seq]\n",
        "display(test_onehot_labels[0:10])"
      ],
      "execution_count": 31,
      "outputs": [
        {
          "output_type": "display_data",
          "data": {
            "text/plain": [
              "35665                                             [cloudy]\n",
              "1512                              [partly_cloudy, primary]\n",
              "31719         [agriculture, partly_cloudy, primary, water]\n",
              "16004    [agriculture, partly_cloudy, primary, road, wa...\n",
              "9301                                      [clear, primary]\n",
              "33253                                     [clear, primary]\n",
              "21380     [clear, cultivation, habitation, primary, water]\n",
              "28279                                     [clear, primary]\n",
              "37103                 [agriculture, clear, primary, water]\n",
              "27451     [clear, cultivation, habitation, primary, water]\n",
              "Name: tags, dtype: object"
            ]
          },
          "metadata": {
            "tags": []
          }
        },
        {
          "output_type": "display_data",
          "data": {
            "text/plain": [
              "[[10],\n",
              " [11, 2],\n",
              " [3, 11, 2, 5],\n",
              " [3, 11, 2, 7, 5],\n",
              " [4, 2],\n",
              " [4, 2],\n",
              " [4, 8, 6, 2, 5],\n",
              " [4, 2],\n",
              " [3, 4, 2, 5],\n",
              " [4, 8, 6, 2, 5]]"
            ]
          },
          "metadata": {
            "tags": []
          }
        },
        {
          "output_type": "display_data",
          "data": {
            "text/plain": [
              "[array([0, 0, 0, 0, 0, 0, 0, 0, 0, 1, 0, 0, 0, 0, 0, 0, 0]),\n",
              " array([0, 1, 0, 0, 0, 0, 0, 0, 0, 0, 1, 0, 0, 0, 0, 0, 0]),\n",
              " array([0, 1, 1, 0, 1, 0, 0, 0, 0, 0, 1, 0, 0, 0, 0, 0, 0]),\n",
              " array([0, 1, 1, 0, 1, 0, 1, 0, 0, 0, 1, 0, 0, 0, 0, 0, 0]),\n",
              " array([0, 1, 0, 1, 0, 0, 0, 0, 0, 0, 0, 0, 0, 0, 0, 0, 0]),\n",
              " array([0, 1, 0, 1, 0, 0, 0, 0, 0, 0, 0, 0, 0, 0, 0, 0, 0]),\n",
              " array([0, 1, 0, 1, 1, 1, 0, 1, 0, 0, 0, 0, 0, 0, 0, 0, 0]),\n",
              " array([0, 1, 0, 1, 0, 0, 0, 0, 0, 0, 0, 0, 0, 0, 0, 0, 0]),\n",
              " array([0, 1, 1, 1, 1, 0, 0, 0, 0, 0, 0, 0, 0, 0, 0, 0, 0]),\n",
              " array([0, 1, 0, 1, 1, 1, 0, 1, 0, 0, 0, 0, 0, 0, 0, 0, 0])]"
            ]
          },
          "metadata": {
            "tags": []
          }
        }
      ]
    },
    {
      "cell_type": "code",
      "metadata": {
        "id": "aEM0ozwQPte5",
        "colab_type": "code",
        "outputId": "aa2963a9-64a2-4081-fc7d-56da1feb469e",
        "colab": {
          "base_uri": "https://localhost:8080/",
          "height": 1000
        }
      },
      "source": [
        "test_df = pd.DataFrame([X_test]).T\n",
        "test_df[\"index\"] = range(0, test_df.shape[0])\n",
        "display(test_df.shape)\n",
        "display(test_df.head(10))\n",
        "\n",
        "categories = pd.DataFrame(test_onehot_labels, columns=tokenizer.index_word.values())\n",
        "categories[\"index\"] = range(0, categories.shape[0])\n",
        "display(categories.shape)\n",
        "display(categories.head(10))\n",
        "\n",
        "test_df = pd.merge(test_df, categories, left_on=\"index\", right_on=\"index\", how=\"outer\")\n",
        "display(test_df.head(10))\n",
        "display(test_df.shape)"
      ],
      "execution_count": 32,
      "outputs": [
        {
          "output_type": "display_data",
          "data": {
            "text/plain": [
              "(8096, 2)"
            ]
          },
          "metadata": {
            "tags": []
          }
        },
        {
          "output_type": "display_data",
          "data": {
            "text/html": [
              "<div>\n",
              "<style scoped>\n",
              "    .dataframe tbody tr th:only-of-type {\n",
              "        vertical-align: middle;\n",
              "    }\n",
              "\n",
              "    .dataframe tbody tr th {\n",
              "        vertical-align: top;\n",
              "    }\n",
              "\n",
              "    .dataframe thead th {\n",
              "        text-align: right;\n",
              "    }\n",
              "</style>\n",
              "<table border=\"1\" class=\"dataframe\">\n",
              "  <thead>\n",
              "    <tr style=\"text-align: right;\">\n",
              "      <th></th>\n",
              "      <th>image_name</th>\n",
              "      <th>index</th>\n",
              "    </tr>\n",
              "  </thead>\n",
              "  <tbody>\n",
              "    <tr>\n",
              "      <th>35665</th>\n",
              "      <td>train-jpg/train_35665.jpg</td>\n",
              "      <td>0</td>\n",
              "    </tr>\n",
              "    <tr>\n",
              "      <th>1512</th>\n",
              "      <td>train-jpg/train_1512.jpg</td>\n",
              "      <td>1</td>\n",
              "    </tr>\n",
              "    <tr>\n",
              "      <th>31719</th>\n",
              "      <td>train-jpg/train_31719.jpg</td>\n",
              "      <td>2</td>\n",
              "    </tr>\n",
              "    <tr>\n",
              "      <th>16004</th>\n",
              "      <td>train-jpg/train_16004.jpg</td>\n",
              "      <td>3</td>\n",
              "    </tr>\n",
              "    <tr>\n",
              "      <th>9301</th>\n",
              "      <td>train-jpg/train_9301.jpg</td>\n",
              "      <td>4</td>\n",
              "    </tr>\n",
              "    <tr>\n",
              "      <th>33253</th>\n",
              "      <td>train-jpg/train_33253.jpg</td>\n",
              "      <td>5</td>\n",
              "    </tr>\n",
              "    <tr>\n",
              "      <th>21380</th>\n",
              "      <td>train-jpg/train_21380.jpg</td>\n",
              "      <td>6</td>\n",
              "    </tr>\n",
              "    <tr>\n",
              "      <th>28279</th>\n",
              "      <td>train-jpg/train_28279.jpg</td>\n",
              "      <td>7</td>\n",
              "    </tr>\n",
              "    <tr>\n",
              "      <th>37103</th>\n",
              "      <td>train-jpg/train_37103.jpg</td>\n",
              "      <td>8</td>\n",
              "    </tr>\n",
              "    <tr>\n",
              "      <th>27451</th>\n",
              "      <td>train-jpg/train_27451.jpg</td>\n",
              "      <td>9</td>\n",
              "    </tr>\n",
              "  </tbody>\n",
              "</table>\n",
              "</div>"
            ],
            "text/plain": [
              "                      image_name  index\n",
              "35665  train-jpg/train_35665.jpg      0\n",
              "1512    train-jpg/train_1512.jpg      1\n",
              "31719  train-jpg/train_31719.jpg      2\n",
              "16004  train-jpg/train_16004.jpg      3\n",
              "9301    train-jpg/train_9301.jpg      4\n",
              "33253  train-jpg/train_33253.jpg      5\n",
              "21380  train-jpg/train_21380.jpg      6\n",
              "28279  train-jpg/train_28279.jpg      7\n",
              "37103  train-jpg/train_37103.jpg      8\n",
              "27451  train-jpg/train_27451.jpg      9"
            ]
          },
          "metadata": {
            "tags": []
          }
        },
        {
          "output_type": "display_data",
          "data": {
            "text/plain": [
              "(8096, 18)"
            ]
          },
          "metadata": {
            "tags": []
          }
        },
        {
          "output_type": "display_data",
          "data": {
            "text/html": [
              "<div>\n",
              "<style scoped>\n",
              "    .dataframe tbody tr th:only-of-type {\n",
              "        vertical-align: middle;\n",
              "    }\n",
              "\n",
              "    .dataframe tbody tr th {\n",
              "        vertical-align: top;\n",
              "    }\n",
              "\n",
              "    .dataframe thead th {\n",
              "        text-align: right;\n",
              "    }\n",
              "</style>\n",
              "<table border=\"1\" class=\"dataframe\">\n",
              "  <thead>\n",
              "    <tr style=\"text-align: right;\">\n",
              "      <th></th>\n",
              "      <th>haze</th>\n",
              "      <th>primary</th>\n",
              "      <th>agriculture</th>\n",
              "      <th>clear</th>\n",
              "      <th>water</th>\n",
              "      <th>habitation</th>\n",
              "      <th>road</th>\n",
              "      <th>cultivation</th>\n",
              "      <th>slash_burn</th>\n",
              "      <th>cloudy</th>\n",
              "      <th>partly_cloudy</th>\n",
              "      <th>conventional_mine</th>\n",
              "      <th>bare_ground</th>\n",
              "      <th>artisinal_mine</th>\n",
              "      <th>blooming</th>\n",
              "      <th>selective_logging</th>\n",
              "      <th>blow_down</th>\n",
              "      <th>index</th>\n",
              "    </tr>\n",
              "  </thead>\n",
              "  <tbody>\n",
              "    <tr>\n",
              "      <th>0</th>\n",
              "      <td>0</td>\n",
              "      <td>0</td>\n",
              "      <td>0</td>\n",
              "      <td>0</td>\n",
              "      <td>0</td>\n",
              "      <td>0</td>\n",
              "      <td>0</td>\n",
              "      <td>0</td>\n",
              "      <td>0</td>\n",
              "      <td>1</td>\n",
              "      <td>0</td>\n",
              "      <td>0</td>\n",
              "      <td>0</td>\n",
              "      <td>0</td>\n",
              "      <td>0</td>\n",
              "      <td>0</td>\n",
              "      <td>0</td>\n",
              "      <td>0</td>\n",
              "    </tr>\n",
              "    <tr>\n",
              "      <th>1</th>\n",
              "      <td>0</td>\n",
              "      <td>1</td>\n",
              "      <td>0</td>\n",
              "      <td>0</td>\n",
              "      <td>0</td>\n",
              "      <td>0</td>\n",
              "      <td>0</td>\n",
              "      <td>0</td>\n",
              "      <td>0</td>\n",
              "      <td>0</td>\n",
              "      <td>1</td>\n",
              "      <td>0</td>\n",
              "      <td>0</td>\n",
              "      <td>0</td>\n",
              "      <td>0</td>\n",
              "      <td>0</td>\n",
              "      <td>0</td>\n",
              "      <td>1</td>\n",
              "    </tr>\n",
              "    <tr>\n",
              "      <th>2</th>\n",
              "      <td>0</td>\n",
              "      <td>1</td>\n",
              "      <td>1</td>\n",
              "      <td>0</td>\n",
              "      <td>1</td>\n",
              "      <td>0</td>\n",
              "      <td>0</td>\n",
              "      <td>0</td>\n",
              "      <td>0</td>\n",
              "      <td>0</td>\n",
              "      <td>1</td>\n",
              "      <td>0</td>\n",
              "      <td>0</td>\n",
              "      <td>0</td>\n",
              "      <td>0</td>\n",
              "      <td>0</td>\n",
              "      <td>0</td>\n",
              "      <td>2</td>\n",
              "    </tr>\n",
              "    <tr>\n",
              "      <th>3</th>\n",
              "      <td>0</td>\n",
              "      <td>1</td>\n",
              "      <td>1</td>\n",
              "      <td>0</td>\n",
              "      <td>1</td>\n",
              "      <td>0</td>\n",
              "      <td>1</td>\n",
              "      <td>0</td>\n",
              "      <td>0</td>\n",
              "      <td>0</td>\n",
              "      <td>1</td>\n",
              "      <td>0</td>\n",
              "      <td>0</td>\n",
              "      <td>0</td>\n",
              "      <td>0</td>\n",
              "      <td>0</td>\n",
              "      <td>0</td>\n",
              "      <td>3</td>\n",
              "    </tr>\n",
              "    <tr>\n",
              "      <th>4</th>\n",
              "      <td>0</td>\n",
              "      <td>1</td>\n",
              "      <td>0</td>\n",
              "      <td>1</td>\n",
              "      <td>0</td>\n",
              "      <td>0</td>\n",
              "      <td>0</td>\n",
              "      <td>0</td>\n",
              "      <td>0</td>\n",
              "      <td>0</td>\n",
              "      <td>0</td>\n",
              "      <td>0</td>\n",
              "      <td>0</td>\n",
              "      <td>0</td>\n",
              "      <td>0</td>\n",
              "      <td>0</td>\n",
              "      <td>0</td>\n",
              "      <td>4</td>\n",
              "    </tr>\n",
              "    <tr>\n",
              "      <th>5</th>\n",
              "      <td>0</td>\n",
              "      <td>1</td>\n",
              "      <td>0</td>\n",
              "      <td>1</td>\n",
              "      <td>0</td>\n",
              "      <td>0</td>\n",
              "      <td>0</td>\n",
              "      <td>0</td>\n",
              "      <td>0</td>\n",
              "      <td>0</td>\n",
              "      <td>0</td>\n",
              "      <td>0</td>\n",
              "      <td>0</td>\n",
              "      <td>0</td>\n",
              "      <td>0</td>\n",
              "      <td>0</td>\n",
              "      <td>0</td>\n",
              "      <td>5</td>\n",
              "    </tr>\n",
              "    <tr>\n",
              "      <th>6</th>\n",
              "      <td>0</td>\n",
              "      <td>1</td>\n",
              "      <td>0</td>\n",
              "      <td>1</td>\n",
              "      <td>1</td>\n",
              "      <td>1</td>\n",
              "      <td>0</td>\n",
              "      <td>1</td>\n",
              "      <td>0</td>\n",
              "      <td>0</td>\n",
              "      <td>0</td>\n",
              "      <td>0</td>\n",
              "      <td>0</td>\n",
              "      <td>0</td>\n",
              "      <td>0</td>\n",
              "      <td>0</td>\n",
              "      <td>0</td>\n",
              "      <td>6</td>\n",
              "    </tr>\n",
              "    <tr>\n",
              "      <th>7</th>\n",
              "      <td>0</td>\n",
              "      <td>1</td>\n",
              "      <td>0</td>\n",
              "      <td>1</td>\n",
              "      <td>0</td>\n",
              "      <td>0</td>\n",
              "      <td>0</td>\n",
              "      <td>0</td>\n",
              "      <td>0</td>\n",
              "      <td>0</td>\n",
              "      <td>0</td>\n",
              "      <td>0</td>\n",
              "      <td>0</td>\n",
              "      <td>0</td>\n",
              "      <td>0</td>\n",
              "      <td>0</td>\n",
              "      <td>0</td>\n",
              "      <td>7</td>\n",
              "    </tr>\n",
              "    <tr>\n",
              "      <th>8</th>\n",
              "      <td>0</td>\n",
              "      <td>1</td>\n",
              "      <td>1</td>\n",
              "      <td>1</td>\n",
              "      <td>1</td>\n",
              "      <td>0</td>\n",
              "      <td>0</td>\n",
              "      <td>0</td>\n",
              "      <td>0</td>\n",
              "      <td>0</td>\n",
              "      <td>0</td>\n",
              "      <td>0</td>\n",
              "      <td>0</td>\n",
              "      <td>0</td>\n",
              "      <td>0</td>\n",
              "      <td>0</td>\n",
              "      <td>0</td>\n",
              "      <td>8</td>\n",
              "    </tr>\n",
              "    <tr>\n",
              "      <th>9</th>\n",
              "      <td>0</td>\n",
              "      <td>1</td>\n",
              "      <td>0</td>\n",
              "      <td>1</td>\n",
              "      <td>1</td>\n",
              "      <td>1</td>\n",
              "      <td>0</td>\n",
              "      <td>1</td>\n",
              "      <td>0</td>\n",
              "      <td>0</td>\n",
              "      <td>0</td>\n",
              "      <td>0</td>\n",
              "      <td>0</td>\n",
              "      <td>0</td>\n",
              "      <td>0</td>\n",
              "      <td>0</td>\n",
              "      <td>0</td>\n",
              "      <td>9</td>\n",
              "    </tr>\n",
              "  </tbody>\n",
              "</table>\n",
              "</div>"
            ],
            "text/plain": [
              "   haze  primary  agriculture  ...  selective_logging  blow_down  index\n",
              "0     0        0            0  ...                  0          0      0\n",
              "1     0        1            0  ...                  0          0      1\n",
              "2     0        1            1  ...                  0          0      2\n",
              "3     0        1            1  ...                  0          0      3\n",
              "4     0        1            0  ...                  0          0      4\n",
              "5     0        1            0  ...                  0          0      5\n",
              "6     0        1            0  ...                  0          0      6\n",
              "7     0        1            0  ...                  0          0      7\n",
              "8     0        1            1  ...                  0          0      8\n",
              "9     0        1            0  ...                  0          0      9\n",
              "\n",
              "[10 rows x 18 columns]"
            ]
          },
          "metadata": {
            "tags": []
          }
        },
        {
          "output_type": "display_data",
          "data": {
            "text/html": [
              "<div>\n",
              "<style scoped>\n",
              "    .dataframe tbody tr th:only-of-type {\n",
              "        vertical-align: middle;\n",
              "    }\n",
              "\n",
              "    .dataframe tbody tr th {\n",
              "        vertical-align: top;\n",
              "    }\n",
              "\n",
              "    .dataframe thead th {\n",
              "        text-align: right;\n",
              "    }\n",
              "</style>\n",
              "<table border=\"1\" class=\"dataframe\">\n",
              "  <thead>\n",
              "    <tr style=\"text-align: right;\">\n",
              "      <th></th>\n",
              "      <th>image_name</th>\n",
              "      <th>index</th>\n",
              "      <th>haze</th>\n",
              "      <th>primary</th>\n",
              "      <th>agriculture</th>\n",
              "      <th>clear</th>\n",
              "      <th>water</th>\n",
              "      <th>habitation</th>\n",
              "      <th>road</th>\n",
              "      <th>cultivation</th>\n",
              "      <th>slash_burn</th>\n",
              "      <th>cloudy</th>\n",
              "      <th>partly_cloudy</th>\n",
              "      <th>conventional_mine</th>\n",
              "      <th>bare_ground</th>\n",
              "      <th>artisinal_mine</th>\n",
              "      <th>blooming</th>\n",
              "      <th>selective_logging</th>\n",
              "      <th>blow_down</th>\n",
              "    </tr>\n",
              "  </thead>\n",
              "  <tbody>\n",
              "    <tr>\n",
              "      <th>0</th>\n",
              "      <td>train-jpg/train_35665.jpg</td>\n",
              "      <td>0</td>\n",
              "      <td>0</td>\n",
              "      <td>0</td>\n",
              "      <td>0</td>\n",
              "      <td>0</td>\n",
              "      <td>0</td>\n",
              "      <td>0</td>\n",
              "      <td>0</td>\n",
              "      <td>0</td>\n",
              "      <td>0</td>\n",
              "      <td>1</td>\n",
              "      <td>0</td>\n",
              "      <td>0</td>\n",
              "      <td>0</td>\n",
              "      <td>0</td>\n",
              "      <td>0</td>\n",
              "      <td>0</td>\n",
              "      <td>0</td>\n",
              "    </tr>\n",
              "    <tr>\n",
              "      <th>1</th>\n",
              "      <td>train-jpg/train_1512.jpg</td>\n",
              "      <td>1</td>\n",
              "      <td>0</td>\n",
              "      <td>1</td>\n",
              "      <td>0</td>\n",
              "      <td>0</td>\n",
              "      <td>0</td>\n",
              "      <td>0</td>\n",
              "      <td>0</td>\n",
              "      <td>0</td>\n",
              "      <td>0</td>\n",
              "      <td>0</td>\n",
              "      <td>1</td>\n",
              "      <td>0</td>\n",
              "      <td>0</td>\n",
              "      <td>0</td>\n",
              "      <td>0</td>\n",
              "      <td>0</td>\n",
              "      <td>0</td>\n",
              "    </tr>\n",
              "    <tr>\n",
              "      <th>2</th>\n",
              "      <td>train-jpg/train_31719.jpg</td>\n",
              "      <td>2</td>\n",
              "      <td>0</td>\n",
              "      <td>1</td>\n",
              "      <td>1</td>\n",
              "      <td>0</td>\n",
              "      <td>1</td>\n",
              "      <td>0</td>\n",
              "      <td>0</td>\n",
              "      <td>0</td>\n",
              "      <td>0</td>\n",
              "      <td>0</td>\n",
              "      <td>1</td>\n",
              "      <td>0</td>\n",
              "      <td>0</td>\n",
              "      <td>0</td>\n",
              "      <td>0</td>\n",
              "      <td>0</td>\n",
              "      <td>0</td>\n",
              "    </tr>\n",
              "    <tr>\n",
              "      <th>3</th>\n",
              "      <td>train-jpg/train_16004.jpg</td>\n",
              "      <td>3</td>\n",
              "      <td>0</td>\n",
              "      <td>1</td>\n",
              "      <td>1</td>\n",
              "      <td>0</td>\n",
              "      <td>1</td>\n",
              "      <td>0</td>\n",
              "      <td>1</td>\n",
              "      <td>0</td>\n",
              "      <td>0</td>\n",
              "      <td>0</td>\n",
              "      <td>1</td>\n",
              "      <td>0</td>\n",
              "      <td>0</td>\n",
              "      <td>0</td>\n",
              "      <td>0</td>\n",
              "      <td>0</td>\n",
              "      <td>0</td>\n",
              "    </tr>\n",
              "    <tr>\n",
              "      <th>4</th>\n",
              "      <td>train-jpg/train_9301.jpg</td>\n",
              "      <td>4</td>\n",
              "      <td>0</td>\n",
              "      <td>1</td>\n",
              "      <td>0</td>\n",
              "      <td>1</td>\n",
              "      <td>0</td>\n",
              "      <td>0</td>\n",
              "      <td>0</td>\n",
              "      <td>0</td>\n",
              "      <td>0</td>\n",
              "      <td>0</td>\n",
              "      <td>0</td>\n",
              "      <td>0</td>\n",
              "      <td>0</td>\n",
              "      <td>0</td>\n",
              "      <td>0</td>\n",
              "      <td>0</td>\n",
              "      <td>0</td>\n",
              "    </tr>\n",
              "    <tr>\n",
              "      <th>5</th>\n",
              "      <td>train-jpg/train_33253.jpg</td>\n",
              "      <td>5</td>\n",
              "      <td>0</td>\n",
              "      <td>1</td>\n",
              "      <td>0</td>\n",
              "      <td>1</td>\n",
              "      <td>0</td>\n",
              "      <td>0</td>\n",
              "      <td>0</td>\n",
              "      <td>0</td>\n",
              "      <td>0</td>\n",
              "      <td>0</td>\n",
              "      <td>0</td>\n",
              "      <td>0</td>\n",
              "      <td>0</td>\n",
              "      <td>0</td>\n",
              "      <td>0</td>\n",
              "      <td>0</td>\n",
              "      <td>0</td>\n",
              "    </tr>\n",
              "    <tr>\n",
              "      <th>6</th>\n",
              "      <td>train-jpg/train_21380.jpg</td>\n",
              "      <td>6</td>\n",
              "      <td>0</td>\n",
              "      <td>1</td>\n",
              "      <td>0</td>\n",
              "      <td>1</td>\n",
              "      <td>1</td>\n",
              "      <td>1</td>\n",
              "      <td>0</td>\n",
              "      <td>1</td>\n",
              "      <td>0</td>\n",
              "      <td>0</td>\n",
              "      <td>0</td>\n",
              "      <td>0</td>\n",
              "      <td>0</td>\n",
              "      <td>0</td>\n",
              "      <td>0</td>\n",
              "      <td>0</td>\n",
              "      <td>0</td>\n",
              "    </tr>\n",
              "    <tr>\n",
              "      <th>7</th>\n",
              "      <td>train-jpg/train_28279.jpg</td>\n",
              "      <td>7</td>\n",
              "      <td>0</td>\n",
              "      <td>1</td>\n",
              "      <td>0</td>\n",
              "      <td>1</td>\n",
              "      <td>0</td>\n",
              "      <td>0</td>\n",
              "      <td>0</td>\n",
              "      <td>0</td>\n",
              "      <td>0</td>\n",
              "      <td>0</td>\n",
              "      <td>0</td>\n",
              "      <td>0</td>\n",
              "      <td>0</td>\n",
              "      <td>0</td>\n",
              "      <td>0</td>\n",
              "      <td>0</td>\n",
              "      <td>0</td>\n",
              "    </tr>\n",
              "    <tr>\n",
              "      <th>8</th>\n",
              "      <td>train-jpg/train_37103.jpg</td>\n",
              "      <td>8</td>\n",
              "      <td>0</td>\n",
              "      <td>1</td>\n",
              "      <td>1</td>\n",
              "      <td>1</td>\n",
              "      <td>1</td>\n",
              "      <td>0</td>\n",
              "      <td>0</td>\n",
              "      <td>0</td>\n",
              "      <td>0</td>\n",
              "      <td>0</td>\n",
              "      <td>0</td>\n",
              "      <td>0</td>\n",
              "      <td>0</td>\n",
              "      <td>0</td>\n",
              "      <td>0</td>\n",
              "      <td>0</td>\n",
              "      <td>0</td>\n",
              "    </tr>\n",
              "    <tr>\n",
              "      <th>9</th>\n",
              "      <td>train-jpg/train_27451.jpg</td>\n",
              "      <td>9</td>\n",
              "      <td>0</td>\n",
              "      <td>1</td>\n",
              "      <td>0</td>\n",
              "      <td>1</td>\n",
              "      <td>1</td>\n",
              "      <td>1</td>\n",
              "      <td>0</td>\n",
              "      <td>1</td>\n",
              "      <td>0</td>\n",
              "      <td>0</td>\n",
              "      <td>0</td>\n",
              "      <td>0</td>\n",
              "      <td>0</td>\n",
              "      <td>0</td>\n",
              "      <td>0</td>\n",
              "      <td>0</td>\n",
              "      <td>0</td>\n",
              "    </tr>\n",
              "  </tbody>\n",
              "</table>\n",
              "</div>"
            ],
            "text/plain": [
              "                  image_name  index  ...  selective_logging  blow_down\n",
              "0  train-jpg/train_35665.jpg      0  ...                  0          0\n",
              "1   train-jpg/train_1512.jpg      1  ...                  0          0\n",
              "2  train-jpg/train_31719.jpg      2  ...                  0          0\n",
              "3  train-jpg/train_16004.jpg      3  ...                  0          0\n",
              "4   train-jpg/train_9301.jpg      4  ...                  0          0\n",
              "5  train-jpg/train_33253.jpg      5  ...                  0          0\n",
              "6  train-jpg/train_21380.jpg      6  ...                  0          0\n",
              "7  train-jpg/train_28279.jpg      7  ...                  0          0\n",
              "8  train-jpg/train_37103.jpg      8  ...                  0          0\n",
              "9  train-jpg/train_27451.jpg      9  ...                  0          0\n",
              "\n",
              "[10 rows x 19 columns]"
            ]
          },
          "metadata": {
            "tags": []
          }
        },
        {
          "output_type": "display_data",
          "data": {
            "text/plain": [
              "(8096, 19)"
            ]
          },
          "metadata": {
            "tags": []
          }
        }
      ]
    },
    {
      "cell_type": "code",
      "metadata": {
        "id": "mHiy2L2fPhSC",
        "colab_type": "code",
        "outputId": "2188c9d8-275d-4314-f653-2b1e8fafcfab",
        "colab": {
          "base_uri": "https://localhost:8080/",
          "height": 51
        }
      },
      "source": [
        "train_generator = datagen.flow_from_dataframe(\n",
        "    dataframe=train_df, \n",
        "    y_col=labels,\n",
        "    x_col=\"image_name\", \n",
        "    directory=\".\", \n",
        "    target_size=(255, 255),\n",
        "    color_mode='rgba', \n",
        "    classes=None, \n",
        "    class_mode=\"raw\",\n",
        "    batch_size=32,\n",
        "    shuffle=True\n",
        ")\n",
        "\n",
        "test_generator = test_datagen.flow_from_dataframe(\n",
        "    dataframe=test_df, \n",
        "    y_col=labels,\n",
        "    x_col=\"image_name\", \n",
        "    directory=\".\", \n",
        "    target_size=(255, 255), \n",
        "    color_mode='rgba', \n",
        "    classes=None, \n",
        "    class_mode=\"raw\",\n",
        "    batch_size=32,\n",
        "    shuffle=True\n",
        ")"
      ],
      "execution_count": 34,
      "outputs": [
        {
          "output_type": "stream",
          "text": [
            "Found 32383 validated image filenames.\n",
            "Found 8096 validated image filenames.\n"
          ],
          "name": "stdout"
        }
      ]
    },
    {
      "cell_type": "code",
      "metadata": {
        "id": "0FvOr4NeQuSZ",
        "colab_type": "code",
        "colab": {}
      },
      "source": [
        "# NOT USED\n",
        "# Fit a MultiLabelBinarizer\n",
        "mlb = MultiLabelBinarizer()\n",
        "mlb.fit(train_df['tags'])\n",
        "\n",
        "# The helper function\n",
        "def multilabel_flow_from_dataframe(data_generator, mlb):\n",
        "    for x, y in data_generator:\n",
        "        indices = y.astype(np.int).tolist()\n",
        "        y_multi = mlb.transform(\n",
        "            df.iloc[indices]['tags']#.values.tolist()\n",
        "        )\n",
        "        yield x, y_multi"
      ],
      "execution_count": 0,
      "outputs": []
    },
    {
      "cell_type": "code",
      "metadata": {
        "id": "majU8mxgQsCZ",
        "colab_type": "code",
        "colab": {}
      },
      "source": [
        "# NOT USED\n",
        "multilabel_generator_train = multilabel_flow_from_dataframe(train_generator, mlb)\n",
        "multilabel_generator_test = multilabel_flow_from_dataframe(test_generator, mlb)"
      ],
      "execution_count": 0,
      "outputs": []
    },
    {
      "cell_type": "markdown",
      "metadata": {
        "id": "pcZceaSyJgcZ",
        "colab_type": "text"
      },
      "source": [
        "## Elección de modelo\n",
        "\n",
        "Elija un modelo de red convolucional para entrenar sobre sus datos. Puede armar su propia red convolucional de cero o utilizar una de las provistas por `Keras` en [Applications](https://keras.io/applications/).\n",
        "\n",
        "Piense como debería ser la capa de clasificación de su modelo y la función de costo a utilizar durante el entrenamiento al tratarse de un problema del tipo multi-label classification."
      ]
    },
    {
      "cell_type": "markdown",
      "metadata": {
        "id": "gF0j1ZgOTv_J",
        "colab_type": "text"
      },
      "source": [
        "### Activation Function\n",
        "- The final score for each class should be independent of each other. Thus we can not apply softmax activation, because softmax converts the score into probabilities taking other scores into consideration.\n",
        "- The reason for the final score to be independent is obvious. If a movie genre is action, then it should not affect if the movie is thriller too.\n",
        "- We use the sigmoid activation function on the final layer. Sigmoid converts each score of the final node between 0 to 1 independent of what the other scores are.\n",
        "- If the score for some class is more than 0.5, the data is classified into that class. And there could be multiple classes having a score of more than 0.5 independently. Thus the data could be classified into multiple classes. Following is code snippet for sigmoid activation."
      ]
    },
    {
      "cell_type": "code",
      "metadata": {
        "id": "yrWprT9XJgca",
        "colab_type": "code",
        "outputId": "adfcbb0e-4144-4125-98e3-b8746e2f2efb",
        "colab": {
          "base_uri": "https://localhost:8080/",
          "height": 323
        }
      },
      "source": [
        "model = keras.models.Sequential()\n",
        "\n",
        "model.add(Conv2D(32, kernel_size=5, strides=2, activation='relu', input_shape=(255, 255, 4)))\n",
        "model.add(Conv2D(64, kernel_size=3, strides=1, activation='relu'))       \n",
        "\n",
        "model.add(Dense(128, activation='relu'))\n",
        "model.add(Flatten())\n",
        "model.add(Dense(n_labels, activation='sigmoid'))   # Final Layer using Softmax\n",
        "\n",
        "model.compile(loss='binary_crossentropy', optimizer='adam', metrics=['accuracy'])\n",
        "\n",
        "model.summary()"
      ],
      "execution_count": 42,
      "outputs": [
        {
          "output_type": "stream",
          "text": [
            "Model: \"sequential_2\"\n",
            "_________________________________________________________________\n",
            "Layer (type)                 Output Shape              Param #   \n",
            "=================================================================\n",
            "conv2d_3 (Conv2D)            (None, 126, 126, 32)      3232      \n",
            "_________________________________________________________________\n",
            "conv2d_4 (Conv2D)            (None, 124, 124, 64)      18496     \n",
            "_________________________________________________________________\n",
            "dense_3 (Dense)              (None, 124, 124, 128)     8320      \n",
            "_________________________________________________________________\n",
            "flatten_2 (Flatten)          (None, 1968128)           0         \n",
            "_________________________________________________________________\n",
            "dense_4 (Dense)              (None, 17)                33458193  \n",
            "=================================================================\n",
            "Total params: 33,488,241\n",
            "Trainable params: 33,488,241\n",
            "Non-trainable params: 0\n",
            "_________________________________________________________________\n"
          ],
          "name": "stdout"
        }
      ]
    },
    {
      "cell_type": "code",
      "metadata": {
        "id": "2k-xBY0gdEnt",
        "colab_type": "code",
        "outputId": "d91ff8fb-230f-4972-e0a5-76e3a8468c48",
        "colab": {
          "base_uri": "https://localhost:8080/",
          "height": 731
        }
      },
      "source": [
        "better_model = Sequential()\n",
        "better_model.add(Conv2D(32, (3, 3), padding='same',\n",
        "                 input_shape=(255,255,4)))\n",
        "better_model.add(Activation('relu'))\n",
        "better_model.add(Conv2D(32, (3, 3)))\n",
        "better_model.add(Activation('relu'))\n",
        "better_model.add(MaxPooling2D(pool_size=(2, 2)))\n",
        "better_model.add(Dropout(0.25))\n",
        "better_model.add(Conv2D(64, (3, 3), padding='same'))\n",
        "better_model.add(Activation('relu'))\n",
        "better_model.add(Conv2D(64, (3, 3)))\n",
        "better_model.add(Activation('relu'))\n",
        "better_model.add(MaxPooling2D(pool_size=(2, 2)))\n",
        "better_model.add(Dropout(0.25))\n",
        "better_model.add(Flatten())\n",
        "better_model.add(Dense(512))\n",
        "better_model.add(Activation('relu'))\n",
        "better_model.add(Dropout(0.5))\n",
        "better_model.add(Dense(n_labels, activation='sigmoid'))\n",
        "better_model.compile(optimizers.rmsprop(lr=0.0001, decay=1e-6),loss=\"binary_crossentropy\",metrics=[\"accuracy\"])\n",
        "\n",
        "better_model.summary()"
      ],
      "execution_count": 0,
      "outputs": [
        {
          "output_type": "stream",
          "text": [
            "Model: \"sequential_19\"\n",
            "_________________________________________________________________\n",
            "Layer (type)                 Output Shape              Param #   \n",
            "=================================================================\n",
            "conv2d_46 (Conv2D)           (None, 255, 255, 32)      1184      \n",
            "_________________________________________________________________\n",
            "activation_26 (Activation)   (None, 255, 255, 32)      0         \n",
            "_________________________________________________________________\n",
            "conv2d_47 (Conv2D)           (None, 253, 253, 32)      9248      \n",
            "_________________________________________________________________\n",
            "activation_27 (Activation)   (None, 253, 253, 32)      0         \n",
            "_________________________________________________________________\n",
            "max_pooling2d_11 (MaxPooling (None, 126, 126, 32)      0         \n",
            "_________________________________________________________________\n",
            "dropout_16 (Dropout)         (None, 126, 126, 32)      0         \n",
            "_________________________________________________________________\n",
            "conv2d_48 (Conv2D)           (None, 126, 126, 64)      18496     \n",
            "_________________________________________________________________\n",
            "activation_28 (Activation)   (None, 126, 126, 64)      0         \n",
            "_________________________________________________________________\n",
            "conv2d_49 (Conv2D)           (None, 124, 124, 64)      36928     \n",
            "_________________________________________________________________\n",
            "activation_29 (Activation)   (None, 124, 124, 64)      0         \n",
            "_________________________________________________________________\n",
            "max_pooling2d_12 (MaxPooling (None, 62, 62, 64)        0         \n",
            "_________________________________________________________________\n",
            "dropout_17 (Dropout)         (None, 62, 62, 64)        0         \n",
            "_________________________________________________________________\n",
            "flatten_11 (Flatten)         (None, 246016)            0         \n",
            "_________________________________________________________________\n",
            "dense_34 (Dense)             (None, 512)               125960704 \n",
            "_________________________________________________________________\n",
            "activation_30 (Activation)   (None, 512)               0         \n",
            "_________________________________________________________________\n",
            "dropout_18 (Dropout)         (None, 512)               0         \n",
            "_________________________________________________________________\n",
            "dense_35 (Dense)             (None, 17)                8721      \n",
            "=================================================================\n",
            "Total params: 126,035,281\n",
            "Trainable params: 126,035,281\n",
            "Non-trainable params: 0\n",
            "_________________________________________________________________\n"
          ],
          "name": "stdout"
        }
      ]
    },
    {
      "cell_type": "markdown",
      "metadata": {
        "id": "GUBwl7O2Jgce",
        "colab_type": "text"
      },
      "source": [
        "## Entrenamiento\n",
        "\n",
        "Entrene y muestre los resultados obtenidos en cada epoch para con su modelo."
      ]
    },
    {
      "cell_type": "code",
      "metadata": {
        "id": "0z4FkmsnJgcg",
        "colab_type": "code",
        "colab": {}
      },
      "source": [
        "STEP_SIZE_TRAIN=train_generator.n//train_generator.batch_size\n",
        "STEP_SIZE_TEST=test_generator.n//test_generator.batch_size\n",
        "\n",
        "model.fit_generator(generator=train_generator, \n",
        "                    steps_per_epoch=STEP_SIZE_TRAIN,\n",
        "                    epochs=1,\n",
        "                    validation_data=test_generator,\n",
        "                    validation_steps=STEP_SIZE_TEST,\n",
        "                    use_multiprocessing=True)"
      ],
      "execution_count": 0,
      "outputs": []
    },
    {
      "cell_type": "markdown",
      "metadata": {
        "id": "96mtP2UOJgcj",
        "colab_type": "text"
      },
      "source": [
        "## Evaluación\n",
        "\n",
        "Muestre debajo los resultados del modelo en su conjunto de testing. Elija las métricas apropiadas para este tipo de problema."
      ]
    },
    {
      "cell_type": "code",
      "metadata": {
        "id": "cdvPmtmeQYHD",
        "colab_type": "code",
        "colab": {}
      },
      "source": [
        "# serialize model to JSON\n",
        "model_json = model.to_json()\n",
        "with open(\"model.json\", \"w\") as json_file:\n",
        "    json_file.write(model_json)\n",
        "# serialize weights to HDF5\n",
        "model.save_weights(\"model.h5\")\n",
        "print(\"Saved model to disk\")"
      ],
      "execution_count": 0,
      "outputs": []
    },
    {
      "cell_type": "code",
      "metadata": {
        "id": "gJw4nT-LI_tG",
        "colab_type": "code",
        "colab": {}
      },
      "source": [
        "from google.colab import drive\n",
        "drive.mount('/content/drive')"
      ],
      "execution_count": 0,
      "outputs": []
    },
    {
      "cell_type": "code",
      "metadata": {
        "id": "-hjqcAPNJDGV",
        "colab_type": "code",
        "colab": {
          "base_uri": "https://localhost:8080/",
          "height": 34
        },
        "outputId": "1a02266a-1d79-4417-92d4-bdc39ac6f821"
      },
      "source": [
        "# load json and create model\n",
        "json_file = open('./drive/My Drive/Colab Notebooks/VisionPorComputadoras/model.json', 'r')\n",
        "loaded_model_json = json_file.read()\n",
        "json_file.close()\n",
        "loaded_model = model_from_json(loaded_model_json)\n",
        "# load weights into new model\n",
        "loaded_model.load_weights(\"./drive/My Drive/Colab Notebooks/VisionPorComputadoras/model.h5\")\n",
        "print(\"Loaded model from disk\")"
      ],
      "execution_count": 40,
      "outputs": [
        {
          "output_type": "stream",
          "text": [
            "Loaded model from disk\n"
          ],
          "name": "stdout"
        }
      ]
    },
    {
      "cell_type": "code",
      "metadata": {
        "id": "w1bjeo6OJl-a",
        "colab_type": "code",
        "colab": {}
      },
      "source": [
        "# make predictions on the testing images, finding the index of the\n",
        "# label with the corresponding largest predicted probability\n",
        "predIdxs = loaded_model.predict_generator(test_generator, steps=STEP_SIZE_TEST)"
      ],
      "execution_count": 0,
      "outputs": []
    },
    {
      "cell_type": "code",
      "metadata": {
        "id": "IEJSGAYhNwSw",
        "colab_type": "code",
        "colab": {}
      },
      "source": [
        "predIdxs = np.rint(predIdxs)\n",
        "pred_labels = np.array(predIdxs, dtype=int).tolist()\n",
        "true_labels = np.array(test_onehot_labels)"
      ],
      "execution_count": 0,
      "outputs": []
    },
    {
      "cell_type": "code",
      "metadata": {
        "id": "JU4Ig4Y9PT6I",
        "colab_type": "code",
        "outputId": "54dbec09-4827-4437-9a72-e9f3163b5ee5",
        "colab": {
          "base_uri": "https://localhost:8080/",
          "height": 34
        }
      },
      "source": [
        "# Hamming-Loss is the fraction of labels that are incorrectly predicted, i.e., the fraction of the wrong labels to the total number of labels\n",
        "hamming_loss  = np.sum(np.not_equal(true_labels, predIdxs))/float(true_labels.size)\n",
        "print(\"Hamming-Loss: \", hamming_loss)"
      ],
      "execution_count": 149,
      "outputs": [
        {
          "output_type": "stream",
          "text": [
            "Hamming-Loss:  0.1144791908858405\n"
          ],
          "name": "stdout"
        }
      ]
    },
    {
      "cell_type": "code",
      "metadata": {
        "id": "akGC23NfLG4p",
        "colab_type": "code",
        "colab": {}
      },
      "source": [
        ""
      ],
      "execution_count": 0,
      "outputs": []
    }
  ]
}